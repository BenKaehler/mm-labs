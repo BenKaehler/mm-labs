{
 "cells": [
  {
   "cell_type": "markdown",
   "metadata": {},
   "source": [
    "# Lab 6\n",
    "## Introduction\n",
    "This lab covers some familiar ground then introduces numerical root finding, matrix manipulation, and curve fitting using NumPy and SciPy.\n",
    "\n",
    "Numerical root finding could be useful for estimating a single critical model parameter.\n",
    "\n",
    "Matrix calculations will be critical for solving systems of differential equations. Being able to handle matrices numerically is also a useful life skill. When your first-year linear algebra is a distant memory and your continued employment is contingent on you finding an eigenvalue, it could help you find your way out of a dark place.\n",
    "\n",
    "Curve fitting will be useful if you want to figure out the parameters of a model given some empirial data.\n",
    "\n",
    "We will cover\n",
    "\n",
    "1. Basic Maths\n",
    "1. Plotting Functions\n",
    "1. Finding Roots of Functions\n",
    "1. Finding Eigenvalues\n",
    "1. Curve Fitting\n",
    "\n",
    "Hopefully the first two sections are old hat to you. They are included here as a summary.\n",
    "\n",
    "### Setup\n",
    "As always, start with some imports."
   ]
  },
  {
   "cell_type": "code",
   "execution_count": null,
   "metadata": {},
   "outputs": [],
   "source": [
    "from numpy import linspace, exp, sqrt, cos, sin, pi, array, \\\n",
    "                  random, meshgrid, sqrt, arange, meshgrid\n",
    "from numpy.linalg import eigvals, eig\n",
    "from numpy.testing import assert_almost_equal\n",
    "from scipy.optimize import fsolve, curve_fit\n",
    "from scipy.integrate import odeint\n",
    "import seaborn as sns\n",
    "import pandas as pd"
   ]
  },
  {
   "cell_type": "markdown",
   "metadata": {},
   "source": [
    "### 1. Basic Maths"
   ]
  },
  {
   "cell_type": "markdown",
   "metadata": {},
   "source": [
    "As you know, Python works just fine as a calculator."
   ]
  },
  {
   "cell_type": "code",
   "execution_count": null,
   "metadata": {},
   "outputs": [],
   "source": [
    "2 + 3"
   ]
  },
  {
   "cell_type": "code",
   "execution_count": null,
   "metadata": {},
   "outputs": [],
   "source": [
    "7 - 5"
   ]
  },
  {
   "cell_type": "code",
   "execution_count": null,
   "metadata": {},
   "outputs": [],
   "source": [
    "34 * 212"
   ]
  },
  {
   "cell_type": "code",
   "execution_count": null,
   "metadata": {},
   "outputs": [],
   "source": [
    "1234 / 5678"
   ]
  },
  {
   "cell_type": "code",
   "execution_count": null,
   "metadata": {},
   "outputs": [],
   "source": [
    "3**7"
   ]
  },
  {
   "cell_type": "code",
   "execution_count": null,
   "metadata": {},
   "outputs": [],
   "source": [
    "sqrt(2)"
   ]
  },
  {
   "cell_type": "code",
   "execution_count": null,
   "metadata": {},
   "outputs": [],
   "source": [
    "cos(pi)"
   ]
  },
  {
   "cell_type": "code",
   "execution_count": null,
   "metadata": {},
   "outputs": [],
   "source": [
    "sin(pi)"
   ]
  },
  {
   "cell_type": "markdown",
   "metadata": {},
   "source": [
    "Note that the last answer is $1.2246\\ldots\\times 10^{-16}$, which is very very small and should remind you that non-integer calculations always come with a tiny bit of error."
   ]
  },
  {
   "cell_type": "markdown",
   "metadata": {},
   "source": [
    "### 2. Plotting Functions\n",
    "Plotting functions is a very important aspect of mathematics. It gives a very quick and visual way of understanding the behaviour of functions. When we plot a function, say $f(x) = \\sin x$, we first must define the range of $x$. Let’s say we want to plot the curve $y = \\sin x$ in the range $−5 \\leq x \\leq 5$. We define the range of x by typing the following command."
   ]
  },
  {
   "cell_type": "code",
   "execution_count": null,
   "metadata": {},
   "outputs": [],
   "source": [
    "x = linspace(-5, 5, 101)"
   ]
  },
  {
   "cell_type": "markdown",
   "metadata": {},
   "source": [
    "This creates a vector `x` whose elements are from −5 to 5 in steps of 0.1. The vector `x` has 101 elements in the vector. (Note that `x` is actually a NumPy array. NumPy calls matrices and vectors \"arrays\".) You can see what is in `x` like so:"
   ]
  },
  {
   "cell_type": "code",
   "execution_count": null,
   "metadata": {},
   "outputs": [],
   "source": [
    "print(x)"
   ]
  },
  {
   "cell_type": "code",
   "execution_count": null,
   "metadata": {},
   "outputs": [],
   "source": [
    "y = sin(x)\n",
    "data = pd.DataFrame({'x': x, 'y': y})\n",
    "ax = sns.lineplot(data=data, x='x', y='y')"
   ]
  },
  {
   "cell_type": "markdown",
   "metadata": {},
   "source": [
    "Note that you can download the plot by right-clicking on it and saving the image.\n",
    "\n",
    "If you would like fine-grain control of how your plot looks, you can do that using `matplotlib` commands. For instance, `plt.figure(figsize=(5, 5))` sets the shape of the display, which can be useful if you want it to be a square."
   ]
  },
  {
   "cell_type": "code",
   "execution_count": null,
   "metadata": {},
   "outputs": [],
   "source": [
    "import matplotlib.pyplot as plt\n",
    "fig = plt.figure(figsize=(5, 5))\n",
    "ax = sns.lineplot(data=data, x='x', y='y')\n",
    "ax.set_title('A plot of y=sin(x)')\n",
    "ax.set_xlabel('x-axis label')\n",
    "ax.set_ylabel('y-axis label');"
   ]
  },
  {
   "cell_type": "markdown",
   "metadata": {},
   "source": [
    "Hence for basic plotting you need to:\n",
    "\n",
    "1. define the range;\n",
    "1. define the function you want to plot;\n",
    "1. put your data in a DataFrame;\n",
    " 1. \\[optional\\] melt your data frame\n",
    "1. plot the data in your DataFrame.\n",
    " \n",
    "Recall that that Step 3A is only required when you want multiple plots on the same axes. If you set up the DataFrame carefully you can save yourself a bunch of hassle with `matplotlib` trying to get your plot to look pretty.\n",
    "\n",
    "Let’s try plotting another curve $y = x2 − x \\sin(3x) − x\\mathrm{e}^x$ for $−3 \\leq x \\leq 3$. Note that when you raise $x$ to the power of 2, multiply it by other arrays, or apply NumPy functions like `sin` and `exp`, NumPy assumes that you want to perform _elementwise_ operations."
   ]
  },
  {
   "cell_type": "code",
   "execution_count": null,
   "metadata": {},
   "outputs": [],
   "source": [
    "x = linspace(-3, 3, 61)\n",
    "y = x**2 - x*sin(3*x) - x*exp(x)\n",
    "data = pd.DataFrame({'x': x, 'y': y})\n",
    "ax = sns.lineplot(data=data, x='x', y='y')"
   ]
  },
  {
   "cell_type": "markdown",
   "metadata": {},
   "source": [
    "### 3. Finding Roots of Functions\n",
    "\n",
    "In many circumstances one would want to find the value of x when the function $f(x) = 0$, i.e., the roots of $f(x)$. Mathematicians, statisticians, and computer scientists have quite a lot to say about root finding but in many cases you can get away with calling a SciPy function.\n",
    "\n",
    "The first thing you need is a “guess” for the root. A good way of getting an appropriate guess is to simply plot the function and see if you can spot where it intersects the $x$-axis.\n",
    "\n",
    "Say for example, we would like to find a root of the function $f(x) = x−\\sin x+1$. So we first plot the curve $y = f(x)$ to see “roughly” where the curve “cuts” the $x$-axis. Remember the four lines of code that will plot this curve?"
   ]
  },
  {
   "cell_type": "code",
   "execution_count": null,
   "metadata": {},
   "outputs": [],
   "source": [
    "x = linspace(-3, 3, 61)\n",
    "y = x - sin(x) + 1\n",
    "data = pd.DataFrame({'x': x, 'y': y})\n",
    "ax = sns.lineplot(data=data, x='x', y='y')"
   ]
  },
  {
   "cell_type": "markdown",
   "metadata": {},
   "source": [
    "So from our naked eye, we can guess that the value of the root of the function is around $x = −2$. So now we type in the following commands to get the a more accurate answer."
   ]
  },
  {
   "cell_type": "code",
   "execution_count": null,
   "metadata": {},
   "outputs": [],
   "source": [
    "def func(x):\n",
    "    return x - sin(x) + 1\n",
    "\n",
    "fsolve(func, -2)"
   ]
  },
  {
   "cell_type": "markdown",
   "metadata": {},
   "source": [
    "If you want to be fancy, you can do it all on one line using a _lambda_ function. Lambda functions exist in several programming languages and are convenient for defining a function you only intend to use once."
   ]
  },
  {
   "cell_type": "code",
   "execution_count": null,
   "metadata": {},
   "outputs": [],
   "source": [
    "fsolve(lambda x: x - sin(x) + 1, -2)"
   ]
  },
  {
   "cell_type": "markdown",
   "metadata": {},
   "source": [
    "### 4. Finding Eigenvalues\n",
    "Eigenvalues provide very important information regarding the behaviour of various systems. In the next few weeks we will be learning how we can use matrix methods and eigenvalues to solve linear systems of differential equations. Once we go beyond $2 \\times 2$ matrices, finding eigenvalues by hand is a pain and using Python easy. How do we find the eigenvalues of matrices using Python? It is disgustingly simple! Read on and find out.\n",
    "\n",
    "Say we would like to find the eigenvalues of matrix A whose elements are\n",
    "\\begin{align*}\n",
    "\\left(\\begin{array}{2}\n",
    "1&2\\\\\n",
    "3&4\n",
    "\\end{array}\\right)\n",
    "\\end{align*}\n",
    "\n",
    "We first need to define matrix `A` as a NumPy array and we do this by typing the following command"
   ]
  },
  {
   "cell_type": "code",
   "execution_count": null,
   "metadata": {},
   "outputs": [],
   "source": [
    "A = array([[1, 2], [3, 4]])"
   ]
  },
  {
   "cell_type": "markdown",
   "metadata": {},
   "source": [
    "which gives"
   ]
  },
  {
   "cell_type": "code",
   "execution_count": null,
   "metadata": {},
   "outputs": [],
   "source": [
    "print(A)"
   ]
  },
  {
   "cell_type": "markdown",
   "metadata": {},
   "source": [
    "To obtain the eigenvalues we simply type"
   ]
  },
  {
   "cell_type": "code",
   "execution_count": null,
   "metadata": {},
   "outputs": [],
   "source": [
    "eigvals(A)"
   ]
  },
  {
   "cell_type": "markdown",
   "metadata": {},
   "source": [
    "So what? Anyone can find the eigenvalues of a $2 \\times 2$ matrix, I hear you say!\n",
    "\n",
    "Let’s now find the eigenvalues of a $3 \\times 3$ matrix `B` whose elements are\n",
    "\\begin{align*}\n",
    "\\left(\\begin{array}{2}\n",
    "1&2&3\\\\\n",
    "4&5&6\\\\\n",
    "7&8&9\n",
    "\\end{array}\\right)\n",
    "\\end{align*}\n",
    "\n",
    "\n",
    "Imagine having to find the eigenvalues of this $3 \\times 3$ matrix by hand. In Python, as before, we need to first define the matrix, and then use the `eigvals` command as follows."
   ]
  },
  {
   "cell_type": "code",
   "execution_count": null,
   "metadata": {},
   "outputs": [],
   "source": [
    "B = array([[1, 2, 3],\n",
    "           [4, 5, 6],\n",
    "           [7, 8, 9]])\n",
    "eigvals(B)"
   ]
  },
  {
   "cell_type": "markdown",
   "metadata": {},
   "source": [
    "Note that one of the eigenvalues is zero."
   ]
  },
  {
   "cell_type": "markdown",
   "metadata": {},
   "source": [
    "How easy was that! You can do this for any $n \\times n$ matrix. Why don’t you make up your own $6 \\times 6$ matrix and find the eigenvalues of that matrix. It’s the same two commands you need. One to define the matrix, and then the `eigvals` command."
   ]
  },
  {
   "cell_type": "code",
   "execution_count": null,
   "metadata": {},
   "outputs": [],
   "source": []
  },
  {
   "cell_type": "markdown",
   "metadata": {},
   "source": [
    "If you would like more practice (and information) on using NumPy arrays, please check out [this lesson](https://swcarpentry.github.io/python-novice-inflammation/02-numpy/index.html) from Software Carpentary.\n",
    "\n",
    "### 5. Curve Fitting\n",
    "The following material is just the example from the SciPy documentation that is available [here](https://docs.scipy.org/doc/scipy/reference/generated/scipy.optimize.curve_fit.html).\n",
    "\n",
    "Start by defining a model that we want to fit."
   ]
  },
  {
   "cell_type": "code",
   "execution_count": null,
   "metadata": {},
   "outputs": [],
   "source": [
    "def func(x, a, b, c):\n",
    "    return a * exp(-b * x) + c"
   ]
  },
  {
   "cell_type": "markdown",
   "metadata": {},
   "source": [
    "Define the data to be fit with some noise:"
   ]
  },
  {
   "cell_type": "code",
   "execution_count": null,
   "metadata": {},
   "outputs": [],
   "source": [
    "xdata = linspace(0, 4, 50)\n",
    "y = func(xdata, 2.5, 1.3, 0.5)\n",
    "random.seed(1729)\n",
    "y_noise = 0.2 * random.normal(size=xdata.size)\n",
    "ydata = y + y_noise\n",
    "\n",
    "data = pd.DataFrame({'x': xdata, 'data': ydata})\n",
    "ax = sns.lineplot(data=data, x='x', y='data')"
   ]
  },
  {
   "cell_type": "markdown",
   "metadata": {},
   "source": [
    "Fit for the parameters a, b, c of the function `func`:"
   ]
  },
  {
   "cell_type": "code",
   "execution_count": null,
   "metadata": {},
   "outputs": [],
   "source": [
    "popt, pcov = curve_fit(func, xdata, ydata)\n",
    "print('a, b, c = ', popt)\n",
    "a, b, c = popt\n",
    "yfitted = func(xdata, a, b, c)\n",
    "\n",
    "data = pd.DataFrame({'x': xdata, 'data': ydata, 'fitted': yfitted})\n",
    "data = data.melt(id_vars=['x'])\n",
    "ax = sns.lineplot(data=data, x='x', y='value', hue='variable')"
   ]
  },
  {
   "cell_type": "markdown",
   "metadata": {},
   "source": [
    "How close were the fitted parameters to the actual parameters?"
   ]
  },
  {
   "cell_type": "markdown",
   "metadata": {
    "nbgrader": {
     "grade": false,
     "grade_id": "cell-17e44717e17ca409",
     "locked": true,
     "schema_version": 1,
     "solution": false
    }
   },
   "source": [
    "## Exercises"
   ]
  },
  {
   "cell_type": "markdown",
   "metadata": {
    "nbgrader": {
     "grade": false,
     "grade_id": "cell-def8f5ac90289a79",
     "locked": true,
     "schema_version": 1,
     "solution": false
    }
   },
   "source": [
    "### Slope field and DE solution plot\n",
    "\n",
    "Plot on the one figure the slopefield for the DE\n",
    "\\begin{align*}\n",
    "\\frac{\\mathrm{d} y}{\\mathrm{d} x} = 2.5y (1 − y)\\qquad y(0) = 0.5,\n",
    "\\end{align*}\n",
    "and the solutions $y(x)$ with $y(0) = 0.2$, $y(0) = 0.5$ and $y(0) = 0.8$.\n",
    "\n",
    "Start by writing down a new definition for `diff_eq` below. Do not change the function's name or inputs."
   ]
  },
  {
   "cell_type": "code",
   "execution_count": null,
   "metadata": {
    "nbgrader": {
     "grade": false,
     "grade_id": "cell-05cc4f7824ab2d84",
     "locked": false,
     "schema_version": 1,
     "solution": true
    }
   },
   "outputs": [],
   "source": [
    "def diff_eq(y, x):\n",
    "    ### your implementation goes here"
   ]
  },
  {
   "cell_type": "markdown",
   "metadata": {},
   "source": [
    "If you have implemented `diff_eq` correctly, the following should print \"nice job\"."
   ]
  },
  {
   "cell_type": "code",
   "execution_count": null,
   "metadata": {
    "nbgrader": {
     "grade": true,
     "grade_id": "cell-0a0fa9099e30078d",
     "locked": true,
     "points": 1,
     "schema_version": 1,
     "solution": false
    }
   },
   "outputs": [],
   "source": [
    "assert_almost_equal(diff_eq(0.4, 0), 0.6)\n",
    "assert_almost_equal(diff_eq(0.4, 10), 0.6)\n",
    "assert_almost_equal(diff_eq(1, 0), 0)\n",
    "print(\"nice job\")"
   ]
  },
  {
   "cell_type": "markdown",
   "metadata": {},
   "source": [
    "`create_slope_field` from Lab 03 is included here for your use."
   ]
  },
  {
   "cell_type": "code",
   "execution_count": null,
   "metadata": {},
   "outputs": [],
   "source": [
    "def create_slope_field(diff_eq, x, y, args=(), initial_values=()):\n",
    "    \"\"\"\n",
    "    Plot a slope field and numerical solutions to initial value problems.\n",
    "        \n",
    "    Parameters\n",
    "    ----------\n",
    "    diff_eq : callable(y, x)\n",
    "        Computes the derivative of y at x.\n",
    "    x : array\n",
    "        2-dimensional array of x values to plot slope field.\n",
    "    y : array\n",
    "        2-dimensional array of y values to plot slope field.\n",
    "    args : tuple\n",
    "        Any additional arguments to diff_eq.\n",
    "    initial_values : tuple\n",
    "        Initial values from which to numerically solve diff_eq.\n",
    "        \n",
    "    Returns\n",
    "    -------\n",
    "    fig : matplotlib.figure\n",
    "        Resulting matplotlib figure.\n",
    "    ax : matplotlib.axes\n",
    "        Resulting matplotlib axes.\n",
    "    \"\"\"\n",
    "    S = diff_eq(y, x, *args)\n",
    "    L = sqrt(1 + S**2)\n",
    "    fig, ax = plt.subplots(figsize=(5, 5))\n",
    "    q = ax.quiver(x, y, 1/L, S/L, scale=25, headwidth=0, headlength=0, color='grey')\n",
    "    x = linspace(x.min(), x.max())\n",
    "    data = {'x': x}\n",
    "    for y0 in initial_values:\n",
    "        y = odeint(diff_eq, y0, x, args)[:,0]\n",
    "        data[f'y({x[0]}) = {y0}'] = y\n",
    "    data = pd.DataFrame(data)\n",
    "    data = data.melt(id_vars=['x'], value_name='y', var_name='initial value')\n",
    "    sns.lineplot(data=data, x='x', y='y', hue='initial value')\n",
    "    return fig, ax"
   ]
  },
  {
   "cell_type": "markdown",
   "metadata": {
    "nbgrader": {
     "grade": false,
     "grade_id": "cell-4e81a7c558ed87e4",
     "locked": true,
     "schema_version": 1,
     "solution": false
    }
   },
   "source": [
    "Look at how `create_slope_field` works and use it to create your plots. This function gives good examples of\n",
    "\n",
    "1. the minimum requirements for comments in your functions (ie. the docstring), and\n",
    "1. use of `odeint`, iteration, and `pandas.DataFrame.melt`.\n",
    "\n",
    "Create the plot for the region $0 < x < 1$ and $0 < y < 1$. To help, the `meshgrid` statement is provided."
   ]
  },
  {
   "cell_type": "code",
   "execution_count": null,
   "metadata": {
    "nbgrader": {
     "grade": true,
     "grade_id": "cell-8945b9507fff370f",
     "locked": false,
     "points": 2,
     "schema_version": 1,
     "solution": true
    }
   },
   "outputs": [],
   "source": [
    "x, y = meshgrid(arange(0, 1, 0.05), arange(0, 1, 0.05))\n",
    "### use create_slope_field here"
   ]
  },
  {
   "cell_type": "markdown",
   "metadata": {
    "nbgrader": {
     "grade": false,
     "grade_id": "cell-0050a7948893bc7b",
     "locked": true,
     "schema_version": 1,
     "solution": false
    }
   },
   "source": [
    "## Solution at a point\n",
    "Write code in the next cell so that the last line is the single number for $y(1)$ if $y(0)=0.8$."
   ]
  },
  {
   "cell_type": "code",
   "execution_count": null,
   "metadata": {},
   "outputs": [],
   "source": []
  }
 ],
 "metadata": {
  "kernelspec": {
   "display_name": "Python 3",
   "language": "python",
   "name": "python3"
  },
  "language_info": {
   "codemirror_mode": {
    "name": "ipython",
    "version": 3
   },
   "file_extension": ".py",
   "mimetype": "text/x-python",
   "name": "python",
   "nbconvert_exporter": "python",
   "pygments_lexer": "ipython3",
   "version": "3.8.8"
  }
 },
 "nbformat": 4,
 "nbformat_minor": 4
}
