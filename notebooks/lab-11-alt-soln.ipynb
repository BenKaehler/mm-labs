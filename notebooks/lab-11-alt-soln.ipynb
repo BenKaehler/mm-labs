{
 "cells": [
  {
   "cell_type": "markdown",
   "metadata": {
    "nbgrader": {
     "grade": false,
     "grade_id": "cell-1b4a3e23a5075895",
     "locked": true,
     "schema_version": 1,
     "solution": false
    }
   },
   "source": [
    "# Lab 11\n",
    "This week we will learn how to solve systems of DEs using matrix exponentiation and take a closer look at how the long-run behaviour of a system is decided by its eigenvalues (and eigenvectors).\n",
    "\n",
    "## Systems of DEs the Easy Way\n",
    "\n",
    "Last week we learnt that a function of a matrix can be written in terms of a Taylor expansion. For instance, if $A$ is a square matrix and $t$ is a scalar, we can write\n",
    "\\begin{align*}\n",
    "\\mathrm{e}^{At} = \\sum_{n=0}^\\infty \\frac{A^nt^n}{n!},\n",
    "\\end{align*}\n",
    "where we take $A^0$ to be the identity matrix $\\mathrm{I}$.\n",
    "\n",
    "Now $t$ is just a scalar, so if we want to take the derivative with respect to $t$ we can write\n",
    "\\begin{align*}\n",
    "\\frac{1}{\\mathrm{d}t}\\mathrm{e}^{At} &= \\frac{1}{\\mathrm{d}t}\\sum_{n=0}^\\infty \\frac{A^nt^n}{n!}\\\\\n",
    "&= \\sum_{n=0}^\\infty \\frac{A^n}{n!}\\frac{1}{\\mathrm{d}t}t^n\\\\\n",
    "&= \\sum_{n=1}^\\infty \\frac{A^n}{n!}nt^{n-1}\\quad\\left(\\text{note that }\\frac{1}{\\mathrm{d}t}t^0 = 0\\right)\\\\\n",
    "&= A\\sum_{n=1}^\\infty \\frac{A^{n-1}}{(n-1)!}t^{n-1}\\\\\n",
    "&= A\\sum_{n=0}^\\infty \\frac{A^nt^n}{n!}\\\\\n",
    "&= A\\mathrm{e}^{At}.\n",
    "\\end{align*}\n",
    "\n",
    "Now, if we have a vector function $\\mathbf{x(t)}=\\mathrm{e}^{At}\\mathbf{a}$ for vector $\\mathbf{a}$, we can write\n",
    "\\begin{align*}\n",
    "\\mathbf{x}'(t) &= \\frac{1}{\\mathrm{d}t}\\mathrm{e}^{At}\\mathbf{a} \\\\\n",
    "&= A\\mathrm{e}^{At}\\mathbf{a} \\\\\n",
    "&= A\\mathbf{x}(t).\n",
    "\\end{align*}\n",
    "\n",
    "In fact for any system of differential equations\n",
    "\\begin{align*}\n",
    "\\mathbf{x}'(t) = A\\mathbf{x}(t),\n",
    "\\end{align*}\n",
    "the general solution is $\\mathbf{x}(t)=\\mathrm{e}^{At}\\mathbf{a}$ for any vector $\\mathbf{a}$.\n",
    "\n",
    "## TL;DR\n",
    "\n",
    "For the initial value problem\n",
    "\\begin{align*}\n",
    "\\mathbf{x}'(t) = A\\mathbf{x}(t),\n",
    "\\end{align*}\n",
    "with $\\mathbf{x}(0) = \\mathbf{x}_0$, the solution is \n",
    "\\begin{align*}\n",
    "\\mathbf{x}(t)=\\mathrm{e}^{At}\\mathbf{x}_0.\n",
    "\\end{align*}\n",
    "We were able to solve form $\\mathbf{a}$ because $\\mathbf{x}(0) = \\mathrm{e}^{0}\\mathbf{a} = \\mathrm{I}\\mathbf{a} = \\mathbf{a}$.\n",
    "\n",
    "## Example"
   ]
  },
  {
   "cell_type": "code",
   "execution_count": 1,
   "metadata": {
    "nbgrader": {
     "grade": false,
     "grade_id": "cell-da4eb5c4e9569f35",
     "locked": true,
     "schema_version": 1,
     "solution": false
    }
   },
   "outputs": [],
   "source": [
    "import numpy as np\n",
    "from scipy import integrate, linalg\n",
    "import seaborn as sns\n",
    "import pandas as pd"
   ]
  },
  {
   "cell_type": "markdown",
   "metadata": {
    "nbgrader": {
     "grade": false,
     "grade_id": "cell-ade9efbc0d6933b8",
     "locked": true,
     "schema_version": 1,
     "solution": false
    }
   },
   "source": [
    "The vector $\\mathbf{x}(t)$ gives the probability that a nucleotide is in a particular state (A, C, G, or T) in the human gene ENSG00000069248 at time $t$. Over the last 160 million years, $\\mathbf{x}(t)$ evolved according to the equation\n",
    "\\begin{align*}\n",
    "\\mathbf{x}'(t) = 10^{-4}\\left(\\begin{matrix}\n",
    "-4.8&  2.3&  1.1&  0.2\\\\\n",
    " 3.1& -6.6&  1.1&  1.3\\\\\n",
    " 1.4&  1.9& -4.1&  2.4\\\\\n",
    " 0.3&  2.4&  1.9& -3.9\\end{matrix}\\right)\\mathbf{x}(t),\n",
    "\\end{align*}\n",
    "where time is in millions of years.\n",
    "\n",
    "For your convenience, I have copied the above matrix into a NumPy array:"
   ]
  },
  {
   "cell_type": "code",
   "execution_count": 2,
   "metadata": {
    "nbgrader": {
     "grade": false,
     "grade_id": "cell-00f809bc1c5f311f",
     "locked": true,
     "schema_version": 1,
     "solution": false
    }
   },
   "outputs": [],
   "source": [
    "Q = np.array([[-4.8,  2.3,  1.1,  0.2],\n",
    "              [ 3.1, -6.6,  1.1,  1.3],\n",
    "              [ 1.4,  1.9, -4.1,  2.4],\n",
    "              [ 0.3,  2.4,  1.9, -3.9]]) * 1e-4"
   ]
  },
  {
   "cell_type": "markdown",
   "metadata": {
    "nbgrader": {
     "grade": false,
     "grade_id": "cell-77ab32ffeb4bd1f1",
     "locked": true,
     "schema_version": 1,
     "solution": false
    }
   },
   "source": [
    "1. Given that\n",
    "\\begin{align*}\n",
    "\\mathbf{x}_0=\\left(\\begin{matrix}\n",
    "0.3082\\\\0.1822\\\\0.1663\\\\0.3433\n",
    "\\end{matrix}\\right),\n",
    "\\end{align*}\n",
    "160 million years ago, plot $\\mathbf{x}(t)$ for the last 160 million years. Plot all four probabilities on the same graph, using markers rather than lines.\n",
    "\n",
    "You can use `scipy.integrate.odeint` to integrate the differential equation, or use a for loop and take advantage of the knowledge that $\\mathbf{x}(t) = \\mathrm{e}^{Qt}\\mathbf{x}_0$."
   ]
  },
  {
   "cell_type": "code",
   "execution_count": 3,
   "metadata": {
    "nbgrader": {
     "grade": true,
     "grade_id": "cell-acb6f7bb4867ff40",
     "locked": false,
     "points": 2,
     "schema_version": 1,
     "solution": true
    }
   },
   "outputs": [
    {
     "data": {
      "image/png": "[encoded data removed]",
      "text/plain": [
       "<Figure size 432x288 with 1 Axes>"
      ]
     },
     "metadata": {
      "needs_background": "light"
     },
     "output_type": "display_data"
    }
   ],
   "source": [
    "def difeq(x, t):\n",
    "    return Q @ x\n",
    "\n",
    "t = np.linspace(0, 160)\n",
    "x0 = np.array([0.3082, 0.1822, 0.1663, 0.3433])\n",
    "data = []\n",
    "for _t in t:\n",
    "    xt = linalg.expm(Q*_t) @ x0\n",
    "    data.append(xt)\n",
    "data = pd.DataFrame(data, columns=['A', 'C', 'G', 'T'])\n",
    "data['t'] = t\n",
    "data = data.melt(id_vars=['t'])\n",
    "ax = sns.lineplot(data=data, x='t', y='value', hue='variable')"
   ]
  },
  {
   "cell_type": "markdown",
   "metadata": {
    "nbgrader": {
     "grade": false,
     "grade_id": "cell-eedd92e8ea7fe465",
     "locked": true,
     "schema_version": 1,
     "solution": false
    }
   },
   "source": [
    "2. The solution to the equation above takes the form\n",
    "\\begin{align*}\n",
    "\\mathbf{x}_t=a_1\\mathrm{e}^{\\lambda_1 t}\\mathbf{v}_1 + a_2\\mathrm{e}^{\\lambda_2 t}\\mathbf{v}_2 + a_3\\mathrm{e}^{\\lambda_3 t}\\mathbf{v}_3 + a_4\\mathrm{e}^{\\lambda_4 t}\\mathbf{v}_4,\n",
    "\\end{align*}\n",
    "where $\\lambda_i$ and $v_i$ are the eigenvalues and eigenvectors of $Q$ and $a_i$ are scalars. Find the values of $a_i$ for the initial conditions ($x_0$) given in question 1."
   ]
  },
  {
   "cell_type": "code",
   "execution_count": 4,
   "metadata": {
    "nbgrader": {
     "grade": true,
     "grade_id": "cell-8f8cbc5cedc9e118",
     "locked": false,
     "points": 1,
     "schema_version": 1,
     "solution": true
    }
   },
   "outputs": [],
   "source": [
    "w, V = np.linalg.eig(Q)\n",
    "a = np.linalg.solve(V, x0)"
   ]
  },
  {
   "cell_type": "markdown",
   "metadata": {
    "nbgrader": {
     "grade": false,
     "grade_id": "cell-80ccd8f3028cc78d",
     "locked": true,
     "schema_version": 1,
     "solution": false
    }
   },
   "source": [
    "3. Use the formula from Question 2 to write a function that returns values of $x_t$ given an array of times, the $a_i$ coefficients, the eigenvalues, and the eigenvectors. The latter two should be in the form as returned by `numpy.linalg.eig`. (Hint: you can do it in one line if you use `numpy.diag` and `numpy.outer`, but a for loop is easier.)"
   ]
  },
  {
   "cell_type": "code",
   "execution_count": 5,
   "metadata": {
    "nbgrader": {
     "grade": false,
     "grade_id": "cell-e9e8638bdd4ded30",
     "locked": false,
     "schema_version": 1,
     "solution": true
    }
   },
   "outputs": [],
   "source": [
    "def calc_x(t, a, lam, V):\n",
    "    return V @ np.diag(a) @ np.exp(np.outer(lam, t))"
   ]
  },
  {
   "cell_type": "code",
   "execution_count": 6,
   "metadata": {
    "nbgrader": {
     "grade": true,
     "grade_id": "cell-b97906d084fd6c87",
     "locked": true,
     "points": 1,
     "schema_version": 1,
     "solution": false
    }
   },
   "outputs": [
    {
     "name": "stdout",
     "output_type": "stream",
     "text": [
      "good work!\n"
     ]
    }
   ],
   "source": [
    "lam, v = np.linalg.eig(Q)\n",
    "a = np.linalg.solve(v, x0)\n",
    "assert np.allclose(calc_x(np.arange(5), a, lam, v),\n",
    "                   np.array([[0.3082    , 0.30811916, 0.30803837, 0.30795764, 0.30787697],\n",
    "                             [0.1822    , 0.18223819, 0.18227633, 0.18231443, 0.18235248],\n",
    "                             [0.1663    , 0.16639195, 0.16648384, 0.16657568, 0.16666747],\n",
    "                             [0.3433    , 0.34325071, 0.34320145, 0.34315225, 0.34310308]]))\n",
    "print('good work!')"
   ]
  },
  {
   "cell_type": "markdown",
   "metadata": {
    "nbgrader": {
     "grade": false,
     "grade_id": "cell-9c5e5946670916c6",
     "locked": true,
     "schema_version": 1,
     "solution": false
    }
   },
   "source": [
    "4. Recreate your plot from Question 1 using your formula."
   ]
  },
  {
   "cell_type": "code",
   "execution_count": 7,
   "metadata": {
    "nbgrader": {
     "grade": true,
     "grade_id": "cell-4c0b4ec1f2fb55ff",
     "locked": false,
     "points": 1,
     "schema_version": 1,
     "solution": true
    }
   },
   "outputs": [
    {
     "data": {
      "image/png": "[encoded data removed]",
      "text/plain": [
       "<Figure size 432x288 with 1 Axes>"
      ]
     },
     "metadata": {
      "needs_background": "light"
     },
     "output_type": "display_data"
    }
   ],
   "source": [
    "xt = calc_x(t, a, w, V).T\n",
    "data = pd.DataFrame(data=xt, columns=list('ACGT'))\n",
    "data['t'] = t\n",
    "data = data.melt(id_vars=['t'])\n",
    "ax = sns.lineplot(data=data, x='t', y='value', hue='variable')"
   ]
  },
  {
   "cell_type": "markdown",
   "metadata": {
    "nbgrader": {
     "grade": false,
     "grade_id": "cell-ea332213b6e40107",
     "locked": true,
     "schema_version": 1,
     "solution": false
    }
   },
   "source": [
    "5. Use your formula to extend the plot out to ten billion years ($t=10000$)."
   ]
  },
  {
   "cell_type": "code",
   "execution_count": 8,
   "metadata": {
    "nbgrader": {
     "grade": true,
     "grade_id": "cell-2f3de6a55ae6ca8c",
     "locked": false,
     "points": 1,
     "schema_version": 1,
     "solution": true
    }
   },
   "outputs": [
    {
     "data": {
      "image/png": "[encoded data removed]",
      "text/plain": [
       "<Figure size 432x288 with 1 Axes>"
      ]
     },
     "metadata": {
      "needs_background": "light"
     },
     "output_type": "display_data"
    }
   ],
   "source": [
    "t = np.linspace(0, 10000)\n",
    "xt = calc_x(t, a, w, V).T\n",
    "data = pd.DataFrame(data=xt, columns=list('ACGT'))\n",
    "data['t'] = t\n",
    "data = data.melt(id_vars=['t'])\n",
    "ax = sns.lineplot(data=data, x='t', y='value', hue='variable')"
   ]
  },
  {
   "cell_type": "markdown",
   "metadata": {
    "nbgrader": {
     "grade": false,
     "grade_id": "cell-31b197635e0a3831",
     "locked": true,
     "schema_version": 1,
     "solution": false
    }
   },
   "source": [
    "6. Look for the eigenvalue of $Q$ that is zero and find the corresponding eigenvector. Also find the corresponding parameter $a_i$. Calculate the appropriate $a_i\\mathbf{v}_i$. What are the limiting values of $x$ for large $t$? Do they agree with your plot for Question 5?"
   ]
  },
  {
   "cell_type": "code",
   "execution_count": 9,
   "metadata": {
    "nbgrader": {
     "grade": true,
     "grade_id": "cell-d56fc5139095b093",
     "locked": false,
     "points": 1,
     "schema_version": 1,
     "solution": true
    }
   },
   "outputs": [
    {
     "name": "stdout",
     "output_type": "stream",
     "text": [
      "[[0.18172924]\n",
      " [0.19770884]\n",
      " [0.32606405]\n",
      " [0.29449787]]\n"
     ]
    }
   ],
   "source": [
    "i = np.isclose(w, 0)\n",
    "print(a[i]*V[:, i])"
   ]
  }
 ],
 "metadata": {
  "celltoolbar": "Create Assignment",
  "kernelspec": {
   "display_name": "Python 3",
   "language": "python",
   "name": "python3"
  },
  "language_info": {
   "codemirror_mode": {
    "name": "ipython",
    "version": 3
   },
   "file_extension": ".py",
   "mimetype": "text/x-python",
   "name": "python",
   "nbconvert_exporter": "python",
   "pygments_lexer": "ipython3",
   "version": "3.8.8"
  }
 },
 "nbformat": 4,
 "nbformat_minor": 4
}
