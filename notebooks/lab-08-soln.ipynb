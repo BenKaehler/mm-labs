{
 "cells": [
  {
   "cell_type": "markdown",
   "metadata": {},
   "source": [
    "# Lab 8\n",
    "This week we will find out how `odeint` can be used to integrate systems of differential equations of the form\n",
    "\\begin{align*}\n",
    "\\frac{\\mathrm{d}\\mathbf{y}}{\\mathrm{d}t} = f(\\mathbf{y}, t),\n",
    "\\end{align*}\n",
    "where $\\mathbf{y}$ is a **vector** of dependent variables and $f$ is a function of $\\mathbf{y}$.\n",
    "\n",
    "We will also show how you can approximate solutions to systems of DEs that you may not be able to solve analytically.\n",
    "\n",
    "## Setup"
   ]
  },
  {
   "cell_type": "code",
   "execution_count": 1,
   "metadata": {},
   "outputs": [],
   "source": [
    "from numpy import arange, empty, exp, array, linspace, isclose, allclose, sin, pi\n",
    "from scipy.integrate import odeint\n",
    "from scipy.optimize import minimize\n",
    "import seaborn as sns\n",
    "import pandas as pd"
   ]
  },
  {
   "cell_type": "markdown",
   "metadata": {},
   "source": [
    "## A Nonlinear DE\n",
    "\n",
    "Imagine that the number of rabbits in an area as a function of time is modelled by $r(t)$ and the number of foxes in the same area at the same time is given by $f(t)$. We can modelled their linked fates using the coupled DEs\n",
    "\\begin{align*}\n",
    "\\frac{\\mathrm{d}r}{\\mathrm{d}t} &= 0.08 r - 0.0004 rf, \\\\\n",
    "\\frac{\\mathrm{d}f}{\\mathrm{d}t} &= -0.09 f + 0.0005 rf,\n",
    "\\end{align*}\n",
    "with initial conditions $r_0 = 300$ and $f_0 = 100$. See Section 6.3 (and the rest of Chapter 6) if you are curious about where this equation comes from.\n",
    "\n",
    "For us, it is important to note that\n",
    "\n",
    "- this system of DEs cannot be represented as matrix multiplied by a $(r\\, f)^\\intercal$ vector and\n",
    "- we have not studied how to solve this equation.\n",
    "\n",
    "We can still define it as a Python function, however. Note that in the following function `rf` is a variable that contains $r$ and $f$ as a vector (actually a NumPy `array`, but it is one-dimensional so we call it a vector)."
   ]
  },
  {
   "cell_type": "code",
   "execution_count": 2,
   "metadata": {},
   "outputs": [],
   "source": [
    "def drfdt(rf, t):\n",
    "    r, f = rf\n",
    "    drdt = 0.08*r - 0.0004*r*f\n",
    "    dfdt = -0.09*f + 0.0005*r*f\n",
    "    return array([drdt, dfdt])"
   ]
  },
  {
   "cell_type": "markdown",
   "metadata": {},
   "source": [
    "`odeint` works almost exactly the same as it does in the one-dimensional case (and in fact makes a bit more sense now in some respects). Note that the initial values are input as `[300, 100]`, and that the first element of $t$ must correspond to the time of those initial values (in this case `t[0] == 0`). "
   ]
  },
  {
   "cell_type": "code",
   "execution_count": 3,
   "metadata": {},
   "outputs": [
    {
     "data": {
      "text/plain": [
       "<AxesSubplot:xlabel='t', ylabel='value'>"
      ]
     },
     "execution_count": 3,
     "metadata": {},
     "output_type": "execute_result"
    },
    {
     "data": {
      "image/png": "[encoded data removed]",
      "text/plain": [
       "<Figure size 432x288 with 1 Axes>"
      ]
     },
     "metadata": {
      "needs_background": "light"
     },
     "output_type": "display_data"
    }
   ],
   "source": [
    "t = linspace(0, 100, 100)\n",
    "rf = odeint(drfdt, [300, 100], t)\n",
    "data = pd.DataFrame({\n",
    "    'rabbits': rf[:,0], 'foxes': rf[:,1], 't': t\n",
    "})\n",
    "data = data.melt(id_vars=['t'])\n",
    "sns.lineplot(data=data, x='t', y='value', hue='variable')"
   ]
  },
  {
   "cell_type": "markdown",
   "metadata": {},
   "source": [
    "Just like when we used `odeint` with a scalar function, `odeint` will happily figure out the values of $r$ and $f$ only when you need them, for instance only at the instant 40 years hence:"
   ]
  },
  {
   "cell_type": "code",
   "execution_count": 4,
   "metadata": {},
   "outputs": [
    {
     "name": "stdout",
     "output_type": "stream",
     "text": [
      "70.757766160244 rabbits\n",
      "208.23878627992096 foxes\n"
     ]
    }
   ],
   "source": [
    "rf = odeint(drfdt, [300, 100], [0, 40])\n",
    "print(rf[-1, 0], 'rabbits')\n",
    "print(rf[-1, 1], 'foxes')"
   ]
  },
  {
   "cell_type": "markdown",
   "metadata": {},
   "source": [
    "If you wanted to figure out exactly when the number of rabbits reaches its lowest ebb, you can minimize the result numerically, again using SciPy."
   ]
  },
  {
   "cell_type": "code",
   "execution_count": 5,
   "metadata": {},
   "outputs": [
    {
     "name": "stdout",
     "output_type": "stream",
     "text": [
      "      fun: 70.67226332711697\n",
      " hess_inv: array([[3.23550154]])\n",
      "      jac: array([-3.81469727e-06])\n",
      "  message: 'Optimization terminated successfully.'\n",
      "     nfev: 10\n",
      "      nit: 4\n",
      "     njev: 5\n",
      "   status: 0\n",
      "  success: True\n",
      "        x: array([40.73864735])\n"
     ]
    },
    {
     "name": "stderr",
     "output_type": "stream",
     "text": [
      "C:\\Users\\z9801684\\anaconda3\\lib\\site-packages\\numpy\\core\\_asarray.py:171: VisibleDeprecationWarning: Creating an ndarray from ragged nested sequences (which is a list-or-tuple of lists-or-tuples-or ndarrays with different lengths or shapes) is deprecated. If you meant to do this, you must specify 'dtype=object' when creating the ndarray.\n",
      "  return array(a, dtype, copy=False, order=order, subok=True)\n"
     ]
    }
   ],
   "source": [
    "def rabbits(t):\n",
    "    return odeint(drfdt, [300, 100], [0, t])[-1, 0]\n",
    "\n",
    "result = minimize(rabbits, 40)\n",
    "print(result)"
   ]
  },
  {
   "cell_type": "code",
   "execution_count": 16,
   "metadata": {},
   "outputs": [],
   "source": [
    "minimize?"
   ]
  },
  {
   "cell_type": "markdown",
   "metadata": {},
   "source": [
    "You get a heap of diagnostic information from `minimize`, but the most important thing is that \"Optimization terminated successfully\" and that the value is stored in `x`:"
   ]
  },
  {
   "cell_type": "code",
   "execution_count": 6,
   "metadata": {},
   "outputs": [
    {
     "name": "stdout",
     "output_type": "stream",
     "text": [
      "rabbits rebounded after 40.738647346149506 years\n"
     ]
    }
   ],
   "source": [
    "print('rabbits rebounded after', result.x[0], 'years')"
   ]
  },
  {
   "cell_type": "markdown",
   "metadata": {
    "nbgrader": {
     "grade": false,
     "grade_id": "cell-158d64fc0018ba47",
     "locked": true,
     "schema_version": 1,
     "solution": false
    }
   },
   "source": [
    "# Exercises\n",
    "We will now numerically solve a differential equation that we cannot solve analytically."
   ]
  },
  {
   "cell_type": "markdown",
   "metadata": {
    "nbgrader": {
     "grade": false,
     "grade_id": "cell-1e3de6c112ff6928",
     "locked": true,
     "schema_version": 1,
     "solution": false
    }
   },
   "source": [
    "Pendulum motion can be defined as\n",
    "\\begin{align*}\n",
    "\\frac{\\mathrm{d}^2\\theta}{\\mathrm{d}t^2} = -\\frac{g}{L}\\sin\\theta,\n",
    "\\end{align*}\n",
    "where $g$ is gravitational acceleration, $L$ is the length of the pendulum, and $\\theta$ is the\n",
    "angle the pendulum makes with the vertical as shown in the figure.\n",
    "\n",
    "<div style=\"align: left; text-align:center;\">\n",
    "<img src=\"images/hold-your-colour.png\" style=\"width: 150px;\"/>\n",
    "Figure 1: A simple pendulum\n",
    "</div>\n",
    "\n",
    "The above equation is a second-order nonlinear differential equation and we don’t have a\n",
    "way to solve this equation algebraically. That is, we can’t use the characteristic equation\n",
    "method or method of undetermined coefficients to solve this equation.\n",
    "\n",
    "We can, however, convert it into a system of first-order DEs and find an approximate solution using `odeint`. By setting $v=\\mathrm{d}\\theta/\\mathrm{d}t$, we obtain the equivalent formulation\n",
    "\\begin{align*}\n",
    "\\frac{\\mathrm{d}\\theta}{\\mathrm{d}t} &= v \\\\\n",
    "\\frac{\\mathrm{d}v}{\\mathrm{d}t} &= -\\frac{g}{L}\\sin\\theta.\n",
    "\\end{align*}\n",
    "Suppose that $g/L = 10$. Write a function to calculate the vector\n",
    "$\\left(\\begin{array}{1}\\frac{\\mathrm{d}\\theta}{\\mathrm{d}t}\\\\\n",
    "\\frac{\\mathrm{d}v}{\\mathrm{d}t}\\end{array}\\right)$ as a function of $\\left(\\begin{array}{1}\\theta\\\\v\\end{array}\\right)$ and $t$. (Note that NumPy does not care whether you return a column or row vector. Usually it figures out what you mean from the context.)"
   ]
  },
  {
   "cell_type": "code",
   "execution_count": 7,
   "metadata": {
    "nbgrader": {
     "grade": false,
     "grade_id": "cell-908179848de3bcb8",
     "locked": false,
     "schema_version": 1,
     "solution": true
    }
   },
   "outputs": [],
   "source": [
    "def dthetavdt(thetav, t):\n",
    "    theta, v = thetav\n",
    "    dthetadt = v\n",
    "    dvdt = -10*sin(theta)\n",
    "    return array([dthetadt, dvdt])"
   ]
  },
  {
   "cell_type": "markdown",
   "metadata": {
    "nbgrader": {
     "grade": false,
     "grade_id": "cell-4d0cf830f39a1ec9",
     "locked": true,
     "schema_version": 1,
     "solution": false
    }
   },
   "source": [
    "The following cell should run without errors then print a friendly message."
   ]
  },
  {
   "cell_type": "code",
   "execution_count": 8,
   "metadata": {
    "nbgrader": {
     "grade": true,
     "grade_id": "cell-c16beaf3058c0527",
     "locked": true,
     "points": 1,
     "schema_version": 1,
     "solution": false
    }
   },
   "outputs": [
    {
     "name": "stdout",
     "output_type": "stream",
     "text": [
      "Your code works!\n"
     ]
    }
   ],
   "source": [
    "assert allclose(dthetavdt([pi/2, 0], 0), [0, -10.0])\n",
    "assert allclose(dthetavdt([pi/12, 0], 0), [0, -2.5881904510252074])\n",
    "assert allclose(dthetavdt([0, 1], 0), [1, 0])\n",
    "print('Your code works!')"
   ]
  },
  {
   "cell_type": "markdown",
   "metadata": {
    "nbgrader": {
     "grade": false,
     "grade_id": "cell-211a768590db0864",
     "locked": true,
     "schema_version": 1,
     "solution": false
    }
   },
   "source": [
    "Use `odeint` to plot $\\theta$ on the interval $0\\leq t \\leq 2.5$ when $\\theta_0=\\frac{\\pi}{12}$ and $v_0=0$."
   ]
  },
  {
   "cell_type": "code",
   "execution_count": 10,
   "metadata": {
    "nbgrader": {
     "grade": true,
     "grade_id": "cell-281064131bd9c79e",
     "locked": false,
     "points": 1,
     "schema_version": 1,
     "solution": true
    }
   },
   "outputs": [
    {
     "data": {
      "text/plain": [
       "<AxesSubplot:xlabel='t', ylabel='value'>"
      ]
     },
     "execution_count": 10,
     "metadata": {},
     "output_type": "execute_result"
    },
    {
     "data": {
      "image/png": "[encoded data removed]",
      "text/plain": [
       "<Figure size 432x288 with 1 Axes>"
      ]
     },
     "metadata": {
      "needs_background": "light"
     },
     "output_type": "display_data"
    }
   ],
   "source": [
    "t = linspace(0, 2.5, 100)\n",
    "thetav = odeint(dthetavdt, [pi/12, 0], t)\n",
    "data = pd.DataFrame({\n",
    "    'theta': thetav[:,0], 'v': thetav[:,1], 't': t\n",
    "})\n",
    "data = data.melt(id_vars=['t'])\n",
    "sns.lineplot(data=data, x='t', y='value', hue='variable')"
   ]
  },
  {
   "cell_type": "markdown",
   "metadata": {
    "nbgrader": {
     "grade": false,
     "grade_id": "cell-f9f84ae9eaf1753d",
     "locked": true,
     "schema_version": 1,
     "solution": false
    }
   },
   "source": [
    "In the following cell, calculate and print the values for $\\theta(2.5)$ and $v(2.5)$ when $\\theta_0=\\frac{\\pi}{12}$ and $v_0=0$."
   ]
  },
  {
   "cell_type": "code",
   "execution_count": 13,
   "metadata": {
    "nbgrader": {
     "grade": true,
     "grade_id": "cell-9201b6b15a7dfc5f",
     "locked": false,
     "points": 1,
     "schema_version": 1,
     "solution": true
    }
   },
   "outputs": [
    {
     "name": "stdout",
     "output_type": "stream",
     "text": [
      "theta(2.5) = -0.004681934744160246\n",
      "v(2.5) = -0.8253870220740621\n"
     ]
    }
   ],
   "source": [
    "thetav = odeint(dthetavdt, [pi/12, 0], [0, 2.5])\n",
    "print(f'theta(2.5) = {thetav[-1,0]}')\n",
    "print(f'v(2.5) = {thetav[-1,1]}')"
   ]
  },
  {
   "cell_type": "markdown",
   "metadata": {
    "nbgrader": {
     "grade": false,
     "grade_id": "cell-8a4f7e821b9ccd45",
     "locked": true,
     "schema_version": 1,
     "solution": false
    }
   },
   "source": [
    "Plot $\\theta$ on the interval $0\\leq t \\leq 2.5$ when $\\theta_0=\\frac{\\pi}{2}$ and $v_0=0$."
   ]
  },
  {
   "cell_type": "code",
   "execution_count": 14,
   "metadata": {
    "nbgrader": {
     "grade": true,
     "grade_id": "cell-09abeb6f5f5f3d53",
     "locked": false,
     "points": 1,
     "schema_version": 1,
     "solution": true
    }
   },
   "outputs": [
    {
     "data": {
      "text/plain": [
       "<AxesSubplot:xlabel='t', ylabel='value'>"
      ]
     },
     "execution_count": 14,
     "metadata": {},
     "output_type": "execute_result"
    },
    {
     "data": {
      "image/png": "[encoded data removed]",
      "text/plain": [
       "<Figure size 432x288 with 1 Axes>"
      ]
     },
     "metadata": {
      "needs_background": "light"
     },
     "output_type": "display_data"
    }
   ],
   "source": [
    "t = linspace(0, 2.5, 100)\n",
    "thetav = odeint(dthetavdt, [pi/2, 0], t)\n",
    "data = pd.DataFrame({\n",
    "    'theta': thetav[:,0], 'v': thetav[:,1], 't': t\n",
    "})\n",
    "data = data.melt(id_vars=['t'])\n",
    "sns.lineplot(data=data, x='t', y='value', hue='variable')"
   ]
  },
  {
   "cell_type": "markdown",
   "metadata": {
    "nbgrader": {
     "grade": false,
     "grade_id": "cell-488f25a8b588d886",
     "locked": true,
     "schema_version": 1,
     "solution": false
    }
   },
   "source": [
    "In the following cell, calculate and print the values for $\\theta(2.5)$ and $v(2.5)$ when $\\theta_0=\\frac{\\pi}{2}$ and $v_0=0$."
   ]
  },
  {
   "cell_type": "code",
   "execution_count": 15,
   "metadata": {
    "nbgrader": {
     "grade": true,
     "grade_id": "cell-2cd9188a5f40004a",
     "locked": false,
     "points": 1,
     "schema_version": 1,
     "solution": true
    }
   },
   "outputs": [
    {
     "name": "stdout",
     "output_type": "stream",
     "text": [
      "theta(2.5) = 1.4510997040393572\n",
      "v(2.5) = -1.5453873087645622\n"
     ]
    }
   ],
   "source": [
    "thetav = odeint(dthetavdt, [pi/2, 0], [0, 2.5])\n",
    "print(f'theta(2.5) = {thetav[-1,0]}')\n",
    "print(f'v(2.5) = {thetav[-1,1]}')"
   ]
  }
 ],
 "metadata": {
  "kernelspec": {
   "display_name": "Python 3",
   "language": "python",
   "name": "python3"
  },
  "language_info": {
   "codemirror_mode": {
    "name": "ipython",
    "version": 3
   },
   "file_extension": ".py",
   "mimetype": "text/x-python",
   "name": "python",
   "nbconvert_exporter": "python",
   "pygments_lexer": "ipython3",
   "version": "3.8.8"
  }
 },
 "nbformat": 4,
 "nbformat_minor": 4
}
