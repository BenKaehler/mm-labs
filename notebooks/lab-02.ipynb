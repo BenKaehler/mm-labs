{
 "cells": [
  {
   "cell_type": "markdown",
   "metadata": {},
   "source": [
    "# Lab 2\n",
    "## Introduction\n",
    "This lab introduces slope fields and a numerical differential equation solver. The solver is an improved version of Euler’s Method, which we will implement ourselves in future labs. Using these techniques involves a number of commands.\n",
    "\n",
    "### Slope fields\n",
    "Plot the slope field for the differential equation\n",
    "\\begin{align*}\n",
    "\\frac{\\mathrm{d}y}{\\mathrm{d}x} = x - y\n",
    "\\end{align*}\n",
    "for $-1<x<5$ and $-2<y<4$.\n",
    "\n",
    "This week, in addition to Seaborn, NumPy, and pandas, we will need Matplotlib and SciPy.\n",
    "\n",
    "Matplotlib was the original popular Python plotting pakage. We need Matplotlib because Seaborn does not implement quiver plots. Fortunately, because Seaborn is built on top of Matplotlib, they play nicely together.\n",
    "\n",
    "SciPy is NumPy's bigger sibling. We need SciPy to integrate the differential equations."
   ]
  },
  {
   "cell_type": "code",
   "execution_count": null,
   "metadata": {},
   "outputs": [],
   "source": [
    "import seaborn as sns\n",
    "import matplotlib.pyplot as plt\n",
    "import pandas as pd\n",
    "from numpy import meshgrid, linspace, sqrt\n",
    "from numpy.testing import assert_almost_equal\n",
    "\n",
    "from scipy.integrate import odeint"
   ]
  },
  {
   "cell_type": "markdown",
   "metadata": {},
   "source": [
    "Now plot the slope field. A slope field is a special type of _quiver_ plot. We create NumPy arrays that say where to plot the line segments (`x` and `y`) and arrays to point them in the right direction (`1/L` and `S/L`).\n",
    "\n",
    "Matplotlib is more hands-on that Seaborn, so you need extra steps like the `subplot` command to create the figure and axes in the first place, `set_title` to set the title of the plot, `plot.axis` command to set the aspect ratio of the plot, and various options within `quiver` to make it look good.\n",
    "\n",
    "When we write `figsize=(5, 5)` in the inputs to `subplots`, are we creating a variable called `figsize`, or doing something else?"
   ]
  },
  {
   "cell_type": "code",
   "execution_count": null,
   "metadata": {},
   "outputs": [],
   "source": [
    "x, y = meshgrid(linspace(-1, 5, 25), linspace(-2, 4, 25))\n",
    "S = x - y\n",
    "L = sqrt(1 + S**2)\n",
    "fig, ax = plt.subplots(figsize=(5, 5))\n",
    "q = ax.quiver(x, y, 1/L, S/L, scale=25, headwidth=0, headlength=0, color='blue')\n",
    "ax.set_title('Slopefield for dy/dx = x - y')\n",
    "plt.axis('equal');"
   ]
  },
  {
   "cell_type": "markdown",
   "metadata": {},
   "source": [
    "`1/L` and `S/L` in the `create_quiver` command set the $x$ and $y$ lengths (components) of the line segment at each point in the grid.\n",
    "\n",
    "Note that NumPy operates element-wise by default, so `x - y` creates an array of differences, and `S/L` creates an array of quotients. For `1/L`, NumPy does something special called _broadcasting_. It assumes that you meant \"divide an array of ones by the elements of `L`\".\n",
    "\n",
    "The slope of the line segment is then $(S/L)/(1/L) = S$, and the length is\n",
    "\\begin{align*}\n",
    "\\sqrt{\\left(\\frac{1}{L}\\right)^2 + \\left(\\frac{S}{L}\\right)^2} &= \\sqrt{\\frac{1+S^2}{L^2}}\\\\\n",
    "&= 1.\n",
    "\\end{align*}"
   ]
  },
  {
   "cell_type": "markdown",
   "metadata": {},
   "source": [
    "### Numerical/graphical solution of an initial-value problem\n",
    "Plot the (approximate) solution to the initial-value problem\n",
    "\\begin{align*}\n",
    "\\frac{\\mathrm{d}y}{\\mathrm{d}x} = x - y\\qquad y(-1)=0\n",
    "\\end{align*}\n",
    "for $-1 < x <5$. Find $y(5)$.\n",
    "\n",
    "Here we use a numerical DE solver `scipy.integrate.odeint`, which we imported as `odeint`. To use `odeint`, we need to define the differential equation in a Python function and then feed it to `odeint`.\n",
    "\n",
    "First define the function. Remember that in Python, [white space is important](https://xkcd.com/353/). That is, you have to indent the contents of your function or Python will complain. Most of the time your Jupyter Notebook will figure out your intentions and auto-indent."
   ]
  },
  {
   "cell_type": "code",
   "execution_count": null,
   "metadata": {},
   "outputs": [],
   "source": [
    "def diff_eq(y, x):\n",
    "    return x - y"
   ]
  },
  {
   "cell_type": "markdown",
   "metadata": {},
   "source": [
    "- The `def` keyword tells Python you would like to define a function.\n",
    "- In this case the function is called `diff_eq` and takes arguments `y` and `x`.\n",
    "- The `return` statement tells Python what you would like to return.\n",
    "- When you stop indenting, the function is over.\n",
    "\n",
    "Note that `odeint` expects the function (`diff_eq` here) to take (at least) two arguments, where the first (`y` here) is the dependent variable and the second (`x` here) is the independent variable. `odeint` needs the function to take both of those arguments (at least), even if these variables are not used in the function (for instance if they are not used in the DE).\n",
    "\n",
    "Now ask `odeint` to generate a solution to our DE."
   ]
  },
  {
   "cell_type": "code",
   "execution_count": null,
   "metadata": {},
   "outputs": [],
   "source": [
    "x = linspace(-1, 5, 61)\n",
    "y = odeint(diff_eq, 0, x)[:, 0]"
   ]
  },
  {
   "cell_type": "markdown",
   "metadata": {},
   "source": [
    "- `linspace` creates an array of (`61`, in this case) equally-spaced elements.\n",
    "- `odeint` calculates `y` for each value of `x`.\n",
    "- In Python, functions are variables like any other. In this case we pass `diff_eq` as an argument to `odeint`.\n",
    "- The second argument to `odeint` (`0` here) is the initial value of $y$. It must correspond to the first value of `x`.\n",
    "- `odeint` returns a 2D array with 61 rows and 1 column. We need a 1D array for plotting, so we extract the first column using `[:, 0]`.\n",
    "\n",
    "The following will plot `x` and `y` in a line plot, just like last week."
   ]
  },
  {
   "cell_type": "code",
   "execution_count": null,
   "metadata": {},
   "outputs": [],
   "source": [
    "data = pd.DataFrame({'x': x, 'y': y})\n",
    "sns.lineplot(data=data, x='x', y='y');"
   ]
  },
  {
   "cell_type": "markdown",
   "metadata": {},
   "source": [
    "Finally, to calculate $y(5)$, we realise that the values calculated by `odeint` are stored in the array `y`. So display `y`."
   ]
  },
  {
   "cell_type": "code",
   "execution_count": null,
   "metadata": {},
   "outputs": [],
   "source": [
    "y"
   ]
  },
  {
   "cell_type": "markdown",
   "metadata": {},
   "source": [
    "Here we just want the last value. We can grab the last element of the array with `y[-1]`. (`y[-2]` gives the second last element.)"
   ]
  },
  {
   "cell_type": "code",
   "execution_count": null,
   "metadata": {},
   "outputs": [],
   "source": [
    "y[-1]"
   ]
  },
  {
   "cell_type": "markdown",
   "metadata": {},
   "source": [
    "`x[-1]` is th elast element of `x`. Check it too."
   ]
  },
  {
   "cell_type": "code",
   "execution_count": null,
   "metadata": {},
   "outputs": [],
   "source": [
    "x[-1]"
   ]
  },
  {
   "cell_type": "markdown",
   "metadata": {},
   "source": [
    "Now we will plot multiple (approximate) solutions on the same graph. The procedure is similar, but now we need an additional `DataFrame.melt` step, to get the data into the shape that Seaborn would like it.\n",
    "\n",
    "Technically\n",
    "- `melt` is required because Seaborn likes _long_ format data, and the DataFrame we have created is in _wide_ format.\n",
    "- `id_vars` says that `x` is the independent (mathematical) variable\n",
    "- `value_name` says that `y` is the (common) dependent (mathematical) variable\n",
    "- `var_name` is the label that will eventually appear in the plot key\n",
    "- telling Seaborn to vary the hue (colour) by `initial value` results in multiple lines on the same plot"
   ]
  },
  {
   "cell_type": "code",
   "execution_count": null,
   "metadata": {},
   "outputs": [],
   "source": [
    "x = linspace(-1, 5, 61)\n",
    "data = {'x': x,\n",
    "        'y(-1) = 0': odeint(diff_eq, 0, x)[:, 0],\n",
    "        'y(-1) = 2': odeint(diff_eq, 2, x)[:, 0],\n",
    "        'y(-1) = -2': odeint(diff_eq, -2, x)[:, 0]}\n",
    "data = pd.DataFrame(data)\n",
    "data = data.melt(id_vars=['x'], value_name='y', var_name='initial value')\n",
    "sns.lineplot(data=data, x='x', y='y', hue='initial value');"
   ]
  },
  {
   "cell_type": "markdown",
   "metadata": {},
   "source": [
    "Now let’s put the slope field and the numerical solutions together. Copy and paste the code from above where we created the quiver plot into the cell below, then copy and paste the code from above where we created the line plots below it (in the same cell).\n",
    "\n",
    "If you have done it properly, the result should look something like this:\n",
    "\n",
    "![](images/week-2.png)\n",
    "\n",
    "(Changing the colour of the slopefield makes the blue solution line pop.)"
   ]
  },
  {
   "cell_type": "code",
   "execution_count": null,
   "metadata": {},
   "outputs": [],
   "source": []
  },
  {
   "cell_type": "markdown",
   "metadata": {
    "nbgrader": {
     "grade": false,
     "grade_id": "cell-17e44717e17ca409",
     "locked": true,
     "schema_version": 1,
     "solution": false
    }
   },
   "source": [
    "## Exercises"
   ]
  },
  {
   "cell_type": "markdown",
   "metadata": {
    "nbgrader": {
     "grade": false,
     "grade_id": "cell-def8f5ac90289a79",
     "locked": true,
     "schema_version": 1,
     "solution": false
    }
   },
   "source": [
    "### Slope field and DE solution plot\n",
    "\n",
    "Plot on one figure the slopefield for the DE\n",
    "\\begin{align*}\n",
    "\\frac{\\mathrm{d} y}{\\mathrm{d} x} = 2.5y (1 − y),\n",
    "\\end{align*}\n",
    "and the solutions to the initial value problems $y(0) = 0.2$, $y(0) = 0.5$ and $y(0) = 0.8$.\n",
    "\n",
    "Start by writing down a new definition for `diff_eq` below. Do not change the function's name or inputs."
   ]
  },
  {
   "cell_type": "code",
   "execution_count": null,
   "metadata": {
    "nbgrader": {
     "grade": false,
     "grade_id": "cell-05cc4f7824ab2d84",
     "locked": false,
     "schema_version": 1,
     "solution": true
    }
   },
   "outputs": [],
   "source": [
    "def diff_eq(y, x):\n",
    "    ### diff_eq implementation goes here"
   ]
  },
  {
   "cell_type": "markdown",
   "metadata": {},
   "source": [
    "If you have implemented `diff_eq` correctly, the following should print \"nice job\"."
   ]
  },
  {
   "cell_type": "code",
   "execution_count": null,
   "metadata": {
    "nbgrader": {
     "grade": true,
     "grade_id": "cell-0a0fa9099e30078d",
     "locked": true,
     "points": 1,
     "schema_version": 1,
     "solution": false
    }
   },
   "outputs": [],
   "source": [
    "assert_almost_equal(diff_eq(0.4, 0), 0.6)\n",
    "assert_almost_equal(diff_eq(0.4, 10), 0.6)\n",
    "assert_almost_equal(diff_eq(1, 0), 0)\n",
    "print(\"nice job\")"
   ]
  },
  {
   "cell_type": "markdown",
   "metadata": {
    "nbgrader": {
     "grade": false,
     "grade_id": "cell-4e81a7c558ed87e4",
     "locked": true,
     "schema_version": 1,
     "solution": false
    }
   },
   "source": [
    "Now create your graph. Note that you will have to redefine `S` (from above). You can do that using your new definition for `diff_eq` or by writing out the RHS of the equation again.\n",
    "\n",
    "You will also have to change your definition of the meshgrid for the slopefield and the domain and initial values in the `odeint` commands. You want about 21 steps in the x and y ranges in meshgrid. \n",
    "\n",
    "Create the plot for the region $0 < x < 1$ and $0 < y < 1$."
   ]
  },
  {
   "cell_type": "code",
   "execution_count": null,
   "metadata": {
    "nbgrader": {
     "grade": true,
     "grade_id": "cell-8945b9507fff370f",
     "locked": false,
     "points": 2,
     "schema_version": 1,
     "solution": true
    }
   },
   "outputs": [],
   "source": []
  },
  {
   "cell_type": "markdown",
   "metadata": {
    "nbgrader": {
     "grade": false,
     "grade_id": "cell-0050a7948893bc7b",
     "locked": true,
     "schema_version": 1,
     "solution": false
    }
   },
   "source": [
    "### Solution at a point\n",
    "What is $y(1)$ if $y(0)=0.8$?"
   ]
  },
  {
   "cell_type": "code",
   "execution_count": null,
   "metadata": {
    "nbgrader": {
     "grade": false,
     "grade_id": "cell-962d55b6bbeb85ad",
     "locked": false,
     "schema_version": 1,
     "solution": true
    }
   },
   "outputs": [],
   "source": []
  }
 ],
 "metadata": {
  "kernelspec": {
   "display_name": "Python 3",
   "language": "python",
   "name": "python3"
  },
  "language_info": {
   "codemirror_mode": {
    "name": "ipython",
    "version": 3
   },
   "file_extension": ".py",
   "mimetype": "text/x-python",
   "name": "python",
   "nbconvert_exporter": "python",
   "pygments_lexer": "ipython3",
   "version": "3.8.8"
  }
 },
 "nbformat": 4,
 "nbformat_minor": 4
}
