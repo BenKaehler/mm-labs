{
 "cells": [
  {
   "cell_type": "markdown",
   "metadata": {},
   "source": [
    "# Lab 5\n",
    "## Introduction\n",
    "\n",
    "This week, most of the maths will be done by us and we will just use Python to plot some functions. Let's refresh our memory on how to generate plots.\n",
    "\n",
    "First load the necessary methods from Seaborn and NumPy and set up the notebook for plotting."
   ]
  },
  {
   "cell_type": "code",
   "execution_count": null,
   "metadata": {},
   "outputs": [],
   "source": [
    "from numpy import arange, linspace, exp, sin, cos, sqrt\n",
    "import seaborn as sns\n",
    "import pandas as pd"
   ]
  },
  {
   "cell_type": "markdown",
   "metadata": {},
   "source": [
    "As an example, we will plot the exponential function. Other functions are plotted in the same fashion."
   ]
  },
  {
   "cell_type": "code",
   "execution_count": null,
   "metadata": {},
   "outputs": [],
   "source": [
    "x = linspace(0, 6)\n",
    "y = exp(x)  # the function that you would like to plot goes here\n",
    "\n",
    "data = pd.DataFrame({'x': x, 'y': y})\n",
    "ax = sns.lineplot(data=data, x='x', y='y')"
   ]
  },
  {
   "cell_type": "markdown",
   "metadata": {},
   "source": [
    "You can change the default title and axis labels if you wish. (Or you can just get the column names right when you create the DataFrame.)"
   ]
  },
  {
   "cell_type": "code",
   "execution_count": null,
   "metadata": {},
   "outputs": [],
   "source": [
    "ax = sns.lineplot(data=data, x='x', y='y')\n",
    "ax.set_ylabel('y-axis label')\n",
    "ax.set_xlabel('x-axis label')\n",
    "ax.set_title('A plot of an exponential');"
   ]
  },
  {
   "cell_type": "markdown",
   "metadata": {},
   "source": [
    "Plotting mulitple time series can be done with an additional `melt` step. Note how the parameters in the `melt` function are reflected in the plot labels. In this example we also use `set_ylim` to limit the range of the y-axis."
   ]
  },
  {
   "cell_type": "code",
   "execution_count": null,
   "metadata": {},
   "outputs": [],
   "source": [
    "x = linspace(0, 7)\n",
    "centre = exp(x)\n",
    "left = exp(x + 1)\n",
    "right = exp(x - 1)\n",
    "\n",
    "data = pd.DataFrame({'x': x,\n",
    "                     'left': left,\n",
    "                     'centre': centre,\n",
    "                     'right': right})\n",
    "data = data.melt(id_vars=['x'], value_name='y', var_name='curve')\n",
    "ax = sns.lineplot(data=data, x='x', y='y', hue='curve')\n",
    "ax.set_ylim([-20,400]);"
   ]
  },
  {
   "cell_type": "markdown",
   "metadata": {
    "nbgrader": {
     "grade": false,
     "grade_id": "cell-aa8012437b81f02f",
     "locked": true,
     "schema_version": 1,
     "solution": false
    }
   },
   "source": [
    "# Exercises\n",
    "\n",
    "This week we are working through a physically-based problem using the solution techniques we have covered in lectures."
   ]
  },
  {
   "cell_type": "markdown",
   "metadata": {
    "nbgrader": {
     "grade": false,
     "grade_id": "cell-7cba7937d58a2657",
     "locked": true,
     "schema_version": 1,
     "solution": false
    }
   },
   "source": [
    "## Riding in a car\n",
    "\n",
    "We can model the suspension of a vehicle riding on a flat surface as a spring system with damping provided by a shock absorber.\n",
    "\n",
    "<div style=\"align: left; text-align:center;\">\n",
    "<img src=\"images/suspension-one.png\" style=\"width: 350px;\"/>\n",
    "Figure 1: Illustration of car suspension\n",
    "</div>\n",
    "\n",
    "Using Newton's second law $F=ma$ this system can be written as\n",
    "\\begin{align*}\n",
    "m\\frac{\\mathrm{d}^2y}{\\mathrm{d}t^2} = -b\\frac{\\mathrm{d}y}{\\mathrm{d}t}-ky\n",
    "\\end{align*}\n",
    "where\n",
    "\n",
    "- $m$ is one quarter of the mass of the vehicle, assuming the weight is eqaully distributed over the four wheels and it is not accelerating in any direction\n",
    "- $b$ is the damping coefficient of the shock absorber\n",
    "- $k$ is the spring constant\n",
    "\n",
    "If the vehicle total mass is 4000 kg, with spring constant 3000 kg/s${}^2$, what is the minimum value for the damping coefficient $b$ (in kg/s) that will provide a smooth oscillation-free ride on a flat road after going over a bump? (Just calculate or enter the value in the cell below as a number without units.)\n",
    "\n",
    "_Hint: this is to do with under- over- and critical damping from last week._"
   ]
  },
  {
   "cell_type": "markdown",
   "metadata": {
    "nbgrader": {
     "grade": false,
     "grade_id": "cell-07945a42e755f661",
     "locked": false,
     "schema_version": 1,
     "solution": true
    }
   },
   "source": [
    "$b = ?$"
   ]
  },
  {
   "cell_type": "markdown",
   "metadata": {
    "nbgrader": {
     "grade": false,
     "grade_id": "cell-d7e53f9220f9fc42",
     "locked": true,
     "schema_version": 1,
     "solution": false
    }
   },
   "source": [
    "Find the solution to the DE in this case if $y$(0)=2cm and $y$'(0)=0. Plot the resulting solution for the interval $t\\in[0,6]$."
   ]
  },
  {
   "cell_type": "code",
   "execution_count": null,
   "metadata": {
    "nbgrader": {
     "grade": true,
     "grade_id": "cell-0e5e5c59cbe00617",
     "locked": false,
     "points": 2,
     "schema_version": 1,
     "solution": true
    }
   },
   "outputs": [],
   "source": []
  },
  {
   "cell_type": "markdown",
   "metadata": {
    "nbgrader": {
     "grade": false,
     "grade_id": "cell-cabdbcca8b82faed",
     "locked": true,
     "schema_version": 1,
     "solution": false
    }
   },
   "source": [
    "What do these initial conditions mean physically?"
   ]
  },
  {
   "cell_type": "markdown",
   "metadata": {
    "nbgrader": {
     "grade": true,
     "grade_id": "cell-e7a88fc738c2566d",
     "locked": false,
     "points": 1,
     "schema_version": 1,
     "solution": true
    }
   },
   "source": []
  },
  {
   "cell_type": "markdown",
   "metadata": {
    "nbgrader": {
     "grade": false,
     "grade_id": "cell-4363870c4b7b22f6",
     "locked": true,
     "schema_version": 1,
     "solution": false
    }
   },
   "source": [
    "## Corrugations\n",
    "\n",
    "Suppose the car is now moving over a bumpy road. We can model the road as supplying a sinusoidal forcing term $g(t) = 1000\\sin(t)$ as illustrated in the figure below.\n",
    "\n",
    "<div style=\"align: left; text-align:center;\">\n",
    "<img src=\"images/suspension-two.png\" style=\"width: 400px;\"/>\n",
    "Figure 2: Bumpy road\n",
    "</div>\n",
    "\n",
    "From Newton's second law we obtain\n",
    "\\begin{align*}\n",
    "m\\frac{\\mathrm{d}^2y}{\\mathrm{d}t^2} = -b\\frac{\\mathrm{d}y}{\\mathrm{d}t}-ky + 1000\\sin(t).\n",
    "\\end{align*}\n",
    "\n",
    "Re-arranging yields\n",
    "\\begin{align*}\n",
    "m\\frac{\\mathrm{d}^2y}{\\mathrm{d}t^2} + b\\frac{\\mathrm{d}y}{\\mathrm{d}t} + ky = 1000\\sin(t).\n",
    "\\end{align*}\n",
    "\n",
    "If $b$=2000, find the general solution for $y(t)$ using the same mass and spring constant as above. Plot the solution to the IVP $y$(0)=1/2 and $y$'(0)=0 over the interval $t\\in[0,20]$. You may wish to increase the number of points you plot to get a smooth plot (using a third argument to `linspace`)."
   ]
  },
  {
   "cell_type": "code",
   "execution_count": null,
   "metadata": {
    "nbgrader": {
     "grade": true,
     "grade_id": "cell-f39ae42712a2de6c",
     "locked": false,
     "points": 2,
     "schema_version": 1,
     "solution": true
    }
   },
   "outputs": [],
   "source": []
  },
  {
   "cell_type": "markdown",
   "metadata": {
    "nbgrader": {
     "grade": false,
     "grade_id": "cell-26a53cab4e13d98d",
     "locked": true,
     "schema_version": 1,
     "solution": false
    }
   },
   "source": [
    "Describe physically what is going on."
   ]
  },
  {
   "cell_type": "markdown",
   "metadata": {
    "nbgrader": {
     "grade": true,
     "grade_id": "cell-04b54b74a14a37ca",
     "locked": false,
     "points": 0,
     "schema_version": 1,
     "solution": true
    }
   },
   "source": []
  },
  {
   "cell_type": "markdown",
   "metadata": {},
   "source": [
    "## Over-, under-, and critical damping\n",
    "\n",
    "In this section we will explore how the damping coefficient affects the form of the solution.\n",
    "\n",
    "Consider the following equation (Question 10 in Problem Set 2):\n",
    "\\begin{align*}\n",
    "y'' + ky' + 4y = 0.\n",
    "\\end{align*}\n",
    "\n",
    "Solve this equation for the initial values $y(0) = 1$, $y'(0)=0$ for $k=3$, $k=4$, and $k=5$.\n",
    "\n",
    "Plot those three solutions on the same axes below for $t$ from 0 to 5.\n",
    "\n",
    "When you get it right, it should look like this:\n",
    "\n",
    "<div style=\"align: left; text-align:center;\">\n",
    "<img src=\"images/damping.png\" style=\"width: 400px;\"/>\n",
    "Figure 3: Under-, over-, and critical damping\n",
    "</div>"
   ]
  },
  {
   "cell_type": "code",
   "execution_count": null,
   "metadata": {},
   "outputs": [],
   "source": []
  }
 ],
 "metadata": {
  "celltoolbar": "Create Assignment",
  "kernelspec": {
   "display_name": "Python 3",
   "language": "python",
   "name": "python3"
  },
  "language_info": {
   "codemirror_mode": {
    "name": "ipython",
    "version": 3
   },
   "file_extension": ".py",
   "mimetype": "text/x-python",
   "name": "python",
   "nbconvert_exporter": "python",
   "pygments_lexer": "ipython3",
   "version": "3.8.8"
  }
 },
 "nbformat": 4,
 "nbformat_minor": 4
}
