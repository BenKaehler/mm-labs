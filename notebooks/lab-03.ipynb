{
 "cells": [
  {
   "cell_type": "markdown",
   "metadata": {},
   "source": [
    "# Lab 3\n",
    "## Introduction\n",
    "In this lab we will analyse population dynamics under the logisitic model with managed harvesting.\n",
    "\n",
    "First import the modules we need."
   ]
  },
  {
   "cell_type": "code",
   "execution_count": null,
   "metadata": {},
   "outputs": [],
   "source": [
    "import seaborn as sns\n",
    "import matplotlib.pyplot as plt\n",
    "import pandas as pd\n",
    "from numpy import meshgrid, linspace, sqrt, arange\n",
    "from scipy.integrate import odeint"
   ]
  },
  {
   "cell_type": "markdown",
   "metadata": {},
   "source": [
    "## Harvesting of fish\n",
    "A population of fish in a lake, left to its own devices, is modelled by the logistic differential equation\n",
    "\\begin{align}\n",
    "\\frac{\\mathrm{d}y}{\\mathrm{d}{t}} = 4y(1-y),\n",
    "\\end{align}\n",
    "where the population $y$ is in units of thousands of fish and time $t$ is measured in years.\n",
    "\n",
    "First define a function for $\\mathrm{d}y/\\mathrm{d}x$ in terms of $y$ and $x$."
   ]
  },
  {
   "cell_type": "code",
   "execution_count": null,
   "metadata": {},
   "outputs": [],
   "source": [
    "def diff_eq(y, x):\n",
    "    return 4 * y * (1 - y)"
   ]
  },
  {
   "cell_type": "markdown",
   "metadata": {},
   "source": [
    "Next define a function that creates a Plotly Figure object that contains a slope field and, optionally, a few solutions to initial value problems.\n",
    "\n",
    "It automates a few things we did in the last lab.\n",
    "\n",
    "- `diff_eq` is the differential equation to be plotted\n",
    "- `x` and `y` should be outputs from `meshgrid`. \n",
    "- `args` is any additional arguments to `diff_eq` (we will use that below).\n",
    "- `initial_values` is a list (or array) of starting $y$ values from which approximate solutions will start. The corresponding $x$ value is the minimum element of `x`.\n",
    "\n",
    "Note that the numerical solutions will plotted for the whole range of $x$ values in `x`, so if they blow up you will probably get a warning and less-than-useful plot."
   ]
  },
  {
   "cell_type": "code",
   "execution_count": null,
   "metadata": {},
   "outputs": [],
   "source": [
    "def create_slope_field(diff_eq, x, y, args=(), initial_values=()):    \n",
    "    S = diff_eq(y, x, *args)\n",
    "    L = sqrt(1 + S**2)\n",
    "    fig, ax = plt.subplots(figsize=(5, 5))\n",
    "    q = ax.quiver(x, y, 1/L, S/L, scale=25, headwidth=0, headlength=0, color='grey')\n",
    "    x = linspace(x.min(), x.max())\n",
    "    data = {'x': x}\n",
    "    for y0 in initial_values:\n",
    "        y = odeint(diff_eq, y0, x, args)[:,0]\n",
    "        data[f'y({x[0]}) = {y0}'] = y\n",
    "    data = pd.DataFrame(data)\n",
    "    data = data.melt(id_vars=['x'], value_name='y', var_name='initial value')\n",
    "    sns.lineplot(data=data, x='x', y='y', hue='initial value')\n",
    "    return fig, ax"
   ]
  },
  {
   "cell_type": "markdown",
   "metadata": {},
   "source": [
    "The slope field below should hopefully give you some idea for the fish population dynamics.\n",
    "\n",
    "Note that we use `arange` rather than `linspace` this week so that we can carefully control the increments between our grid points. `arange(0, 1.1, 0.25)` returns an array that starts with 0 and increments by 0.25 until it exceeds 1.1.\n",
    "\n",
    "The plot also contains the solution curves for \n",
    "$y(0) = 1$ and $y(0) = 0.4$. Edit the cell to also include the solution curve for $y(0)=1.4$."
   ]
  },
  {
   "cell_type": "code",
   "execution_count": null,
   "metadata": {},
   "outputs": [],
   "source": [
    "x, y = meshgrid(arange(0, 1.1, 0.05), arange(-0.4, 1.41, 0.05))\n",
    "fig, ax = create_slope_field(diff_eq, x, y, initial_values=(0.4, 1))"
   ]
  },
  {
   "cell_type": "markdown",
   "metadata": {},
   "source": [
    "### Equilibrium solutions\n",
    "Looking back to our differential equation, $\\mathrm{d}y/\\mathrm{d}t = 0$ when $y(t) = 0$ or $y(t) = 1$. Looking at the slope field, we see that the equilibrium solution $y(t) = 1$ is stable (this is the carrying capacity here, corresponding to 1000 fish), whereas the equilibrium solution $y(t) = 0$ is unstable. Any non-zero initial population will eventually stabilise at 1000 fish.\n",
    "\n",
    "### What will happen if harvesting is now commenced at a steady rate?\n",
    "For the simplest harvesting model, assume that $H$ units (thousands) of fish are taken\n",
    "continuously (smoothly) over the year, rather than at one instant each year.\n",
    "Note that the units of $H$ are the same as those of $\\mathrm{d}y/\\mathrm{d}t$, thousands of fish per year, so we simply subtract $H$ from the RHS of our existing equation to give the DE with harvesting as\n",
    "\\begin{align}\n",
    "\\frac{\\mathrm{d}y}{\\mathrm{d}{t}} = 4y(1-y) - H.\n",
    "\\end{align}\n",
    "Again, the (constant) equilibrium solutions are found by setting $\\mathrm{d}y/\\mathrm{d}t = 0$, giving from the quadratic formula (check this),\n",
    "\\begin{align}\n",
    "y(t) = \\frac{4\\pm\\sqrt{16-16H}}{8} = \\frac{1\\pm\\sqrt{1-H}}{2}.\n",
    "\\end{align}\n",
    "What happens after harvesting starts will depend on the equilibrium solutions, their\n",
    "stability and the initial number of fish $y(0)$.\n",
    "\n",
    "Start by redefining `diff_eq` to include the `H` parameter. Note that defining `diff_eq` again overides our original definition."
   ]
  },
  {
   "cell_type": "code",
   "execution_count": null,
   "metadata": {},
   "outputs": [],
   "source": [
    "def diff_eq(y, x, H=0):\n",
    "    return 4 * y * (1 - y) - H"
   ]
  },
  {
   "cell_type": "markdown",
   "metadata": {},
   "source": [
    "Now set $H = 0.6$ and plot the slope field. This is done by setting `args=(0.6,)` when we call `create_slope_field`. This is exactly how you would pass additional arguments like this one to `odeint` if you were calling it directly."
   ]
  },
  {
   "cell_type": "code",
   "execution_count": null,
   "metadata": {},
   "outputs": [],
   "source": [
    "x, y = meshgrid(arange(0, 1.1, 0.05), arange(-0.4, 1.41, 0.05))\n",
    "fig, ax = create_slope_field(diff_eq, x, y, args=(0.6,))"
   ]
  },
  {
   "cell_type": "markdown",
   "metadata": {},
   "source": [
    "From the solutions to the quadratic equation above, the equilibrium solutions of the DE are found to be $y(t) \\approx 0.184$ and $y(t) \\approx 0.816$. The previous equilibrium solution with no harvesting at $y(t) = 0$ has moved up to $y(t) \\approx 0.184$, while the previous equilibrium solution with no harvesting at $y(t) = 1$ has moved down to $y(t) \\approx 0.816$.\n",
    "\n",
    "From the slope field, we see that the equilibrium solution $y(t) \\approx 0.184$ is unstable, whereas the equilibrium solution $y(t) \\approx 0.816$ is stable. If the population ever falls below about 0.184, or 184 fish, it will then drop to 0. This is a new feature, introduced by harvesting.\n",
    "\n",
    "In the cell below, use `create_slope_field` to experiment by plotting the solutions to the initial value problems $y(0)=0.183$ and $y(0)=0.25$. Extend the $x$ range of your slope field until the top line is close to equlibrium. Note that if you extend it too far you will break `odeint` (why?). You may also like to increase the increments in `arange` to make the plot clearer."
   ]
  },
  {
   "cell_type": "code",
   "execution_count": null,
   "metadata": {},
   "outputs": [],
   "source": [
    "x, y = meshgrid(arange(0, 2, 0.05), arange(-0.4, 1.41, 0.05))\n",
    "fig, ax = create_slope_field(diff_eq, x, y, initial_values=(0.183, 0.25), args=(0.6,))"
   ]
  },
  {
   "cell_type": "markdown",
   "metadata": {
    "nbgrader": {
     "grade": false,
     "grade_id": "cell-29363b164268bf40",
     "locked": true,
     "schema_version": 1,
     "solution": false
    }
   },
   "source": [
    "## Exercises\n",
    "\n",
    "In this lab you will experiment with the population dynamics given by the logistic equation with harvesting that we started analysing in the lab."
   ]
  },
  {
   "cell_type": "markdown",
   "metadata": {
    "nbgrader": {
     "grade": false,
     "grade_id": "cell-911870c6f277be19",
     "locked": true,
     "schema_version": 1,
     "solution": false
    }
   },
   "source": [
    "This week the questions will be a combination of plots and written answers.\n",
    "\n",
    "1. Assume that the harvest is 600 fish per year. **On the same figure,**  \n",
    "  a. plot the slope field,  \n",
    "  b. plot the equilibrium solutions that we found in above, and  \n",
    "  c. plot the solution curves for $y(0)=1$, $y(0)=0.3$, and $y(0)=0.15$."
   ]
  },
  {
   "cell_type": "code",
   "execution_count": null,
   "metadata": {
    "nbgrader": {
     "grade": true,
     "grade_id": "cell-c69f4f16b6829bdb",
     "locked": false,
     "points": 3,
     "schema_version": 1,
     "solution": true
    }
   },
   "outputs": [],
   "source": [
    "x, y = meshgrid(arange(0, 1, 0.05), arange(-0.4, 1.41, 0.05))\n",
    "fig, ax = create_slope_field(diff_eq, x, y, initial_values=(1, 0.3, 0.15, 0.816, 0.183), args=(0.6,))"
   ]
  },
  {
   "cell_type": "markdown",
   "metadata": {
    "nbgrader": {
     "grade": false,
     "grade_id": "cell-4c90f98f6e4190fc",
     "locked": true,
     "schema_version": 1,
     "solution": false
    }
   },
   "source": [
    "1.  d. In the cell below, describe the behaviour of the fish population for each of these five initial numbers of fish."
   ]
  },
  {
   "cell_type": "markdown",
   "metadata": {
    "nbgrader": {
     "grade": true,
     "grade_id": "cell-5344c1304c48788c",
     "locked": false,
     "points": 1,
     "schema_version": 1,
     "solution": true
    }
   },
   "source": []
  },
  {
   "cell_type": "markdown",
   "metadata": {
    "nbgrader": {
     "grade": false,
     "grade_id": "cell-413edd7f5900b4dd",
     "locked": true,
     "schema_version": 1,
     "solution": false
    }
   },
   "source": [
    "2. a. i. Assume that $H=0.8$. Plot the slope field and five solutions, one for each equilibrium solution and one for each region between, above, or below them. You can use the equation from the lab to calculate the equilibrium solutions."
   ]
  },
  {
   "cell_type": "code",
   "execution_count": null,
   "metadata": {
    "nbgrader": {
     "grade": true,
     "grade_id": "cell-875013ba939fff73",
     "locked": false,
     "points": 1,
     "schema_version": 1,
     "solution": true
    }
   },
   "outputs": [],
   "source": []
  },
  {
   "cell_type": "markdown",
   "metadata": {
    "nbgrader": {
     "grade": false,
     "grade_id": "cell-2d22e92a629c8a54",
     "locked": true,
     "schema_version": 1,
     "solution": false
    }
   },
   "source": [
    "2. a. ii. In the cell below, describe the limiting behaviour of each line."
   ]
  },
  {
   "cell_type": "markdown",
   "metadata": {
    "nbgrader": {
     "grade": true,
     "grade_id": "cell-cfe1f11d3b0748a7",
     "locked": false,
     "points": 1,
     "schema_version": 1,
     "solution": true
    }
   },
   "source": []
  },
  {
   "cell_type": "markdown",
   "metadata": {
    "nbgrader": {
     "grade": false,
     "grade_id": "cell-875013ba939fff74",
     "locked": true,
     "schema_version": 1,
     "solution": false
    }
   },
   "source": [
    "2. b. i. Assume that $H=1$. Plot the slope field and three solutions for the equilibrium solution and the regions above and below it."
   ]
  },
  {
   "cell_type": "code",
   "execution_count": null,
   "metadata": {
    "nbgrader": {
     "grade": true,
     "grade_id": "cell-8d1572bac0d49f7e",
     "locked": false,
     "points": 1,
     "schema_version": 1,
     "solution": true
    }
   },
   "outputs": [],
   "source": []
  },
  {
   "cell_type": "markdown",
   "metadata": {
    "nbgrader": {
     "grade": false,
     "grade_id": "cell-d4f212dc49e36bd0",
     "locked": true,
     "schema_version": 1,
     "solution": false
    }
   },
   "source": [
    "2. b. ii. Describe the limiting behaviour of each line."
   ]
  },
  {
   "cell_type": "markdown",
   "metadata": {
    "nbgrader": {
     "grade": true,
     "grade_id": "cell-ce4b6ca47c9fa87c",
     "locked": false,
     "points": 1,
     "schema_version": 1,
     "solution": true
    }
   },
   "source": []
  },
  {
   "cell_type": "markdown",
   "metadata": {
    "nbgrader": {
     "grade": false,
     "grade_id": "cell-b406dcba6719f92d",
     "locked": true,
     "schema_version": 1,
     "solution": false
    }
   },
   "source": [
    "2. c. i. Assume that  𝐻=1.2. Plot the slope field and two or three solutions."
   ]
  },
  {
   "cell_type": "code",
   "execution_count": null,
   "metadata": {
    "nbgrader": {
     "grade": true,
     "grade_id": "cell-61906096ca402fd7",
     "locked": false,
     "points": 1,
     "schema_version": 1,
     "solution": true
    }
   },
   "outputs": [],
   "source": []
  },
  {
   "cell_type": "markdown",
   "metadata": {
    "nbgrader": {
     "grade": false,
     "grade_id": "cell-f8824641a105b6bb",
     "locked": true,
     "schema_version": 1,
     "solution": false
    }
   },
   "source": [
    "2. c. iii. Describe the limiting behaviour of the lines."
   ]
  },
  {
   "cell_type": "markdown",
   "metadata": {
    "nbgrader": {
     "grade": true,
     "grade_id": "cell-a7a7e587cfb339c6",
     "locked": false,
     "points": 1,
     "schema_version": 1,
     "solution": true
    }
   },
   "source": []
  },
  {
   "cell_type": "markdown",
   "metadata": {
    "nbgrader": {
     "grade": false,
     "grade_id": "cell-f5d5f8f9381c64c3",
     "locked": true,
     "schema_version": 1,
     "solution": false
    }
   },
   "source": [
    "3. Summarize what happens to the equilibrium solutions and their stability as $H$\n",
    "is increased from 0 to beyond 1. Refer to your plots to support your answers."
   ]
  },
  {
   "cell_type": "markdown",
   "metadata": {
    "nbgrader": {
     "grade": true,
     "grade_id": "cell-34be365fad97bc6b",
     "locked": false,
     "points": 3,
     "schema_version": 1,
     "solution": true
    }
   },
   "source": []
  },
  {
   "cell_type": "markdown",
   "metadata": {
    "nbgrader": {
     "grade": false,
     "grade_id": "cell-b4e04b30a85d44f4",
     "locked": true,
     "schema_version": 1,
     "solution": false
    }
   },
   "source": [
    "4. What is a reasonable strategy for sustainable fishing in this case?\n",
    "Don’t forget to allow qualitatively for minor catastrophes, such as disease or temporary overfishing."
   ]
  },
  {
   "cell_type": "markdown",
   "metadata": {
    "nbgrader": {
     "grade": true,
     "grade_id": "cell-e43556f07fb9ebdc",
     "locked": false,
     "points": 1,
     "schema_version": 1,
     "solution": true
    }
   },
   "source": []
  }
 ],
 "metadata": {
  "kernelspec": {
   "display_name": "Python 3",
   "language": "python",
   "name": "python3"
  },
  "language_info": {
   "codemirror_mode": {
    "name": "ipython",
    "version": 3
   },
   "file_extension": ".py",
   "mimetype": "text/x-python",
   "name": "python",
   "nbconvert_exporter": "python",
   "pygments_lexer": "ipython3",
   "version": "3.8.8"
  }
 },
 "nbformat": 4,
 "nbformat_minor": 4
}
