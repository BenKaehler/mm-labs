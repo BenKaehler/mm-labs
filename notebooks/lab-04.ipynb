{
 "cells": [
  {
   "cell_type": "markdown",
   "metadata": {},
   "source": [
    "# Lab 4\n",
    "## Introduction\n",
    "The Euler method is a method for numerically solving a DE of the form\n",
    "\\begin{align}\n",
    "\\frac{\\mathrm{d}y}{\\mathrm{d}x} = f(x,y).\n",
    "\\end{align}\n",
    "\n",
    "It is often necessary to solve DEs this way as analytical solutions are the exception\n",
    "rather than the rule.\n",
    "\n",
    "<img src=\"images/euler-one.png\" style=\"width: 350px;\"/>\n",
    "\n",
    "Euler’s method works by approximating small segments of the curve solution to the DE\n",
    "with the straight-line tangent or slope of the curve. As long as we keep the segments\n",
    "small enough, they will approximately match what the actual curve looks like. It requires us to ”know” an initial value $y(x_0) = y_0$ so we can start the calculation.\n",
    "\n",
    "To calculate the first segment we start off with our known start point $(x_0, y_0)$, and calculate the end point, $(x_1, y_1)$. We can define $\\Delta x$ to be some constant small distance so that we always increment the $x$ value by the same amount. Then, $\\Delta y = m \\Delta x$ and $(x_1, y_1)=(x_0, y_0)+(\\Delta x, m\\Delta x)$.\n",
    "\n",
    "<img src=\"images/euler-two.png\" style=\"width: 250px;\"/>\n",
    "\n",
    "But, we also know that $m$, the slope of the line, is given by $\\mathrm{d}y/\\mathrm{d}x$, i.e., $f(x, y)$ evaluated at $(x_0, y_0)$. So actually, $\\Delta y = f(x_0, y_0) \\Delta x$.\n",
    "\n",
    "The final step is to calculate the new point: the point at the end of the first line segment. This point is then given by $(x_1, y_1) = (x_0 + \\Delta x, y_0 + f(x_0, y_0) \\Delta x)$.\n",
    "\n",
    "We then do it again to calculate $(x_2, y_2)$ using $(x_1, y_1)$ as our starting point. We then do it again to calculate $(x_3, y_3)$ using $(x_2, y_2)$ as our starting point and so on.\n",
    "\n",
    "**Summary:** The Euler method for evaluating a DE of the form\n",
    "\\begin{align}\n",
    "\\frac{\\mathrm{d}y}{\\mathrm{d}x} = f(x,y).\n",
    "\\end{align}\n",
    "involves the iterative calculation of\n",
    "\\begin{align}\n",
    "x_{n+1} &= x_n + \\Delta x\\\\\n",
    "\\text{and}\\quad y_{n+1} &= y_n + f(x_n,y_n)\\Delta x.\n",
    "\\end{align}\n",
    "\n",
    "### Implementation\n",
    "\n",
    "First import the necessary functions from NumPy and SciPy and set up Plotly."
   ]
  },
  {
   "cell_type": "code",
   "execution_count": null,
   "metadata": {},
   "outputs": [],
   "source": [
    "from numpy import arange, empty, exp, linspace\n",
    "import seaborn as sns\n",
    "import matplotlib.pyplot as plt\n",
    "import pandas as pd"
   ]
  },
  {
   "cell_type": "markdown",
   "metadata": {},
   "source": [
    "Now let's write a function that implements Euler's method. We will model it on `scipy.integrate.odeint`. We will make slight changes to the parameters because we want to input $\\Delta x$. Note that the string (delimited by triple quotes) immediately after the function definition is a _docstring_. It tells us what the function does and is good programming practice. The prodigious comments in the function body are not generally necessary but are included for you."
   ]
  },
  {
   "cell_type": "code",
   "execution_count": null,
   "metadata": {},
   "outputs": [],
   "source": [
    "def euler(func, y0, x0, xn, n):\n",
    "    \"\"\"\n",
    "    Integrate an ordinary differential equation using Euler's method.\n",
    "    \n",
    "    Solves the initial value problem for systems of first order ode-s::\n",
    "        dy/dx = func(y, x).\n",
    "        \n",
    "    Parameters\n",
    "    ----------\n",
    "    func : callable(y, x)\n",
    "        Computes the derivative of y at x.\n",
    "    y0 : float\n",
    "        Initial condition on y.\n",
    "    x0 : float\n",
    "        Initial condition on x.\n",
    "    xn : float\n",
    "        Upper limit to value of x.\n",
    "    n : float\n",
    "        number of increments.\n",
    "        \n",
    "    Returns\n",
    "    -------\n",
    "    x : float\n",
    "        Array containing the value of x for each value of x0 + n * Dx,\n",
    "        where Dx = (xn - x0) / n.\n",
    "    y : float\n",
    "        Array containing the value of y for each value of x.\n",
    "    \"\"\"\n",
    "    x = linspace(x0, xn, n + 1)  # Create the x array\n",
    "    y = empty(n + 1)  # Create an empty y array of the same length as x\n",
    "    Dx = (xn - x0) / n # Set the value of Dx\n",
    "    y[0] = y0  # Set the first value of y to y0\n",
    "    for n in range(len(x) - 1):  # Loop to populate the rest of the values of y\n",
    "        y[n+1] = y[n] + func(y[n], x[n]) * Dx  # Euler's method\n",
    "    \n",
    "    return x, y  # Return x and y as a pair"
   ]
  },
  {
   "cell_type": "markdown",
   "metadata": {},
   "source": [
    "First try solving\n",
    "\\begin{align}\n",
    "\\frac{\\mathrm{d}y}{\\mathrm{d}x} = y.\n",
    "\\end{align}\n",
    "for $y(0)=1$ for $x$ between 0 and 5 and using $\\Delta x=1$."
   ]
  },
  {
   "cell_type": "code",
   "execution_count": null,
   "metadata": {},
   "outputs": [],
   "source": [
    "def diff_eq(y, x):\n",
    "    return y\n",
    "\n",
    "x, y = euler(diff_eq, 1, 0, 5, 5)"
   ]
  },
  {
   "cell_type": "markdown",
   "metadata": {},
   "source": [
    "We know that the analytic solution to the above IVP is $y=\\mathrm{e}^x$, so calculate that as well."
   ]
  },
  {
   "cell_type": "code",
   "execution_count": null,
   "metadata": {},
   "outputs": [],
   "source": [
    "y_analytic = exp(x)"
   ]
  },
  {
   "cell_type": "markdown",
   "metadata": {},
   "source": [
    "Now plot them both for comparison."
   ]
  },
  {
   "cell_type": "code",
   "execution_count": null,
   "metadata": {},
   "outputs": [],
   "source": [
    "data = pd.DataFrame({\n",
    "    'x': x, 'Euler': y, 'Truth': y_analytic\n",
    "})\n",
    "data = data.melt(id_vars=['x'])\n",
    "ax = sns.lineplot(data=data, x='x', y='value', hue='variable')"
   ]
  },
  {
   "cell_type": "markdown",
   "metadata": {},
   "source": [
    "To quantify the error introduced by the Euler approximation, calculate the difference between the approximation and the true value at $x=5$."
   ]
  },
  {
   "cell_type": "code",
   "execution_count": null,
   "metadata": {},
   "outputs": [],
   "source": [
    "y_analytic[-1] - y[-1]"
   ]
  },
  {
   "cell_type": "markdown",
   "metadata": {},
   "source": [
    "Reproduce the comparison plot below but with $\\Delta x=0.1$."
   ]
  },
  {
   "cell_type": "code",
   "execution_count": null,
   "metadata": {},
   "outputs": [],
   "source": []
  },
  {
   "cell_type": "markdown",
   "metadata": {},
   "source": [
    "What is the error at $x=5$ now?"
   ]
  },
  {
   "cell_type": "code",
   "execution_count": null,
   "metadata": {},
   "outputs": [],
   "source": []
  },
  {
   "cell_type": "markdown",
   "metadata": {
    "nbgrader": {
     "grade": false,
     "grade_id": "cell-f7a20b26c9af5a4a",
     "locked": true,
     "schema_version": 1,
     "solution": false
    }
   },
   "source": [
    "## Exercises\n",
    "\n",
    "In this lab you will try Euler's method for a couple of differential equations."
   ]
  },
  {
   "cell_type": "markdown",
   "metadata": {
    "nbgrader": {
     "grade": false,
     "grade_id": "cell-4563154be4ae8ba7",
     "locked": true,
     "schema_version": 1,
     "solution": false
    }
   },
   "source": [
    "1.  a. Consider the IVP\n",
    "\\begin{align}\n",
    "\\frac{\\mathrm{d}y}{\\mathrm{d}x} = 2x\\quad\\text{where}\\quad y(-2)=4.\n",
    "\\end{align}\n",
    "Calculate the Euler approximation on the interval $x=[-2,2]$ using a step size of $\\Delta x = 0.5$. On the same figure, plot your approximation and the analytic solution."
   ]
  },
  {
   "cell_type": "code",
   "execution_count": null,
   "metadata": {
    "nbgrader": {
     "grade": true,
     "grade_id": "cell-45c76edb60a91537",
     "locked": false,
     "points": 2,
     "schema_version": 1,
     "solution": true
    }
   },
   "outputs": [],
   "source": []
  },
  {
   "cell_type": "markdown",
   "metadata": {
    "nbgrader": {
     "grade": false,
     "grade_id": "cell-2166527db98cd11c",
     "locked": true,
     "schema_version": 1,
     "solution": false
    }
   },
   "source": [
    "1.  b. Calculate the error at $x=2$."
   ]
  },
  {
   "cell_type": "code",
   "execution_count": null,
   "metadata": {
    "nbgrader": {
     "grade": false,
     "grade_id": "cell-e95167ce84daaca3",
     "locked": false,
     "schema_version": 1,
     "solution": true
    }
   },
   "outputs": [],
   "source": []
  },
  {
   "cell_type": "markdown",
   "metadata": {
    "nbgrader": {
     "grade": false,
     "grade_id": "cell-aeaba0818a3c7e1a",
     "locked": true,
     "schema_version": 1,
     "solution": false
    }
   },
   "source": [
    "1.  c. Reproduce your plot from 1a except with $\\Delta x=0.1$."
   ]
  },
  {
   "cell_type": "code",
   "execution_count": null,
   "metadata": {
    "nbgrader": {
     "grade": true,
     "grade_id": "cell-85250202ccbe09c9",
     "locked": false,
     "points": 1,
     "schema_version": 1,
     "solution": true
    }
   },
   "outputs": [],
   "source": []
  },
  {
   "cell_type": "markdown",
   "metadata": {
    "nbgrader": {
     "grade": false,
     "grade_id": "cell-d9a66abbad5ea039",
     "locked": true,
     "schema_version": 1,
     "solution": false
    }
   },
   "source": [
    "1.  d. Recalculate the error at $x=2$."
   ]
  },
  {
   "cell_type": "code",
   "execution_count": null,
   "metadata": {
    "nbgrader": {
     "grade": false,
     "grade_id": "cell-0b466639f1f062f4",
     "locked": false,
     "schema_version": 1,
     "solution": true
    }
   },
   "outputs": [],
   "source": []
  },
  {
   "cell_type": "markdown",
   "metadata": {
    "nbgrader": {
     "grade": false,
     "grade_id": "cell-11821b18b83315e0",
     "locked": true,
     "schema_version": 1,
     "solution": false
    }
   },
   "source": [
    "2.  a. The following is the DE for the arrow problem from class.\n",
    "\\begin{align}\n",
    "\\frac{\\mathrm{d}y}{\\mathrm{d}t} = 294\\mathrm{e}^{-0.04t}-245\\quad\\text{where}\\quad y(0)=0\n",
    "\\end{align}\n",
    "Calculate the Euler approximation to the solution on the interval  $t=[0,10]$ with $\\Delta t=0.5$. Plot your approximation and the analytic solution on the same figure."
   ]
  },
  {
   "cell_type": "code",
   "execution_count": null,
   "metadata": {
    "nbgrader": {
     "grade": true,
     "grade_id": "cell-4ae1dd0ba0ed69a3",
     "locked": false,
     "points": 2,
     "schema_version": 1,
     "solution": true
    }
   },
   "outputs": [],
   "source": []
  },
  {
   "cell_type": "markdown",
   "metadata": {
    "nbgrader": {
     "grade": false,
     "grade_id": "cell-0fead94cd5cbdfcf",
     "locked": true,
     "schema_version": 1,
     "solution": false
    }
   },
   "source": [
    "2.  b. Calculate the error at $x=10$."
   ]
  },
  {
   "cell_type": "code",
   "execution_count": null,
   "metadata": {
    "nbgrader": {
     "grade": false,
     "grade_id": "cell-9c871e431c594a7c",
     "locked": false,
     "schema_version": 1,
     "solution": true
    }
   },
   "outputs": [],
   "source": []
  },
  {
   "cell_type": "markdown",
   "metadata": {
    "nbgrader": {
     "grade": false,
     "grade_id": "cell-b85556125acc6046",
     "locked": true,
     "schema_version": 1,
     "solution": false
    }
   },
   "source": [
    "2.  c. Reproduce your plot from 2a except with $\\Delta t=0.1$."
   ]
  },
  {
   "cell_type": "code",
   "execution_count": null,
   "metadata": {
    "nbgrader": {
     "grade": true,
     "grade_id": "cell-fdd9041fcd9c007f",
     "locked": false,
     "points": 1,
     "schema_version": 1,
     "solution": true
    }
   },
   "outputs": [],
   "source": []
  },
  {
   "cell_type": "markdown",
   "metadata": {
    "nbgrader": {
     "grade": false,
     "grade_id": "cell-c6e493e92ca002c1",
     "locked": true,
     "schema_version": 1,
     "solution": false
    }
   },
   "source": [
    "2.  d. Recalculate the error at $x=10$."
   ]
  },
  {
   "cell_type": "code",
   "execution_count": null,
   "metadata": {
    "nbgrader": {
     "grade": false,
     "grade_id": "cell-6ce1d24e826b9f4d",
     "locked": false,
     "schema_version": 1,
     "solution": true
    }
   },
   "outputs": [],
   "source": []
  },
  {
   "cell_type": "markdown",
   "metadata": {},
   "source": [
    "3.  a. Calculate the error between the Euler approximation and the true solution to the IVP $\\mathrm{d}y/\\mathrm{d}x=y$, $y(0)=1$ for $n$ increments from $n=50$ to $1000$."
   ]
  },
  {
   "cell_type": "code",
   "execution_count": null,
   "metadata": {},
   "outputs": [],
   "source": []
  },
  {
   "cell_type": "markdown",
   "metadata": {},
   "source": [
    "3.  b. Plot the errors calculated in 3a against $\\Delta t$ (recalling that $\\Delta t=5/n$). What does it look like the relationship is between $\\Delta t$ and the error?"
   ]
  },
  {
   "cell_type": "code",
   "execution_count": null,
   "metadata": {},
   "outputs": [],
   "source": []
  }
 ],
 "metadata": {
  "kernelspec": {
   "display_name": "Python 3",
   "language": "python",
   "name": "python3"
  },
  "language_info": {
   "codemirror_mode": {
    "name": "ipython",
    "version": 3
   },
   "file_extension": ".py",
   "mimetype": "text/x-python",
   "name": "python",
   "nbconvert_exporter": "python",
   "pygments_lexer": "ipython3",
   "version": "3.8.8"
  }
 },
 "nbformat": 4,
 "nbformat_minor": 4
}
