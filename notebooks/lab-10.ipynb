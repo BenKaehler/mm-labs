{
 "cells": [
  {
   "cell_type": "markdown",
   "metadata": {},
   "source": [
    "# Lab 10\n",
    "Up to now we have visualisted the solutions to coupled differential equations as functions of the independent variable. This week we will look at different visualisations that relate the dependent variables to one another.\n",
    "\n",
    "## Setup"
   ]
  },
  {
   "cell_type": "code",
   "execution_count": null,
   "metadata": {},
   "outputs": [],
   "source": [
    "from numpy import (meshgrid, linspace, pi, array, sqrt, cos, sin,\n",
    "                   real, imag, isclose, allclose, exp, outer)\n",
    "from numpy.linalg import eig, solve\n",
    "from scipy.integrate import odeint\n",
    "import seaborn as sns\n",
    "import pandas as pd\n",
    "import matplotlib.pyplot as plt"
   ]
  },
  {
   "cell_type": "markdown",
   "metadata": {},
   "source": [
    "## Coupled Differential Equations\n",
    "\n",
    "Take the system of equations\n",
    "\\begin{align*}\n",
    "x' &= y, \\\\\n",
    "y' &= -x.\n",
    "\\end{align*}\n",
    "\n",
    "### Analytic Solution\n",
    "In Section 4.1, Question 17 we saw that the solutions to these equations are\n",
    "\\begin{align*}\n",
    "x(t) &= A \\cos t + B \\sin t, \\\\\n",
    "y(t) &= B \\cos t - A \\sin t.\n",
    "\\end{align*}\n",
    "\n",
    "What are $A$ and $B$ for the following initial value problems?\n",
    "\n",
    "1. $x(0)=0$, $y(0)=1$\n",
    "1. $x(0)=2$, $y(0)=1$\n",
    "1. $x(0)=0$, $y(0)=5$\n",
    "\n",
    "### Plotting the trajectories\n",
    "To plot trajectories of a system of 2 equations we plot the \n",
    "$x$ solution on the horizontal axis and the $y$\n",
    "solution on the vertical axis."
   ]
  },
  {
   "cell_type": "code",
   "execution_count": null,
   "metadata": {
    "scrolled": true
   },
   "outputs": [],
   "source": [
    "t = linspace(0, pi/2)\n",
    "data = pd.DataFrame()\n",
    "for A, B in [[0, 1], [2, 1], [0, 5]]:\n",
    "    x = A*cos(t) + B*sin(t)\n",
    "    y = B*cos(t) - A*sin(t)\n",
    "    more_points = pd.DataFrame({'x': x, 'y': y, 'initial values': str([A, B])})\n",
    "    data = pd.concat([data, more_points])\n",
    "ax = sns.lineplot(data=data, x='x', y='y', hue='initial values', sort=False)"
   ]
  },
  {
   "cell_type": "markdown",
   "metadata": {},
   "source": [
    "What happens if you change `t` to `linspace(0, pi/2)`? Why?\n",
    "\n",
    "Of course, we could alternatively solve the equations using `odeint`. For that we will need a function for the differential equations:"
   ]
  },
  {
   "cell_type": "code",
   "execution_count": null,
   "metadata": {},
   "outputs": [],
   "source": [
    "def difeq(x, t):\n",
    "    M = array([[0, 1],\n",
    "               [-1, 0]])\n",
    "    return M.dot(x)"
   ]
  },
  {
   "cell_type": "markdown",
   "metadata": {},
   "source": [
    "The solutions will be the same:"
   ]
  },
  {
   "cell_type": "code",
   "execution_count": null,
   "metadata": {},
   "outputs": [],
   "source": [
    "t = linspace(0, 2*pi)\n",
    "data = pd.DataFrame()\n",
    "for x0 in [[0, 1], [2, 1], [0, 5]]:\n",
    "    x = odeint(difeq, x0, t)\n",
    "    more_points = pd.DataFrame({'x': x[:,0], 'y': x[:,1], 'initial values': str(x0)})\n",
    "    data = pd.concat([data, more_points])\n",
    "ax = sns.lineplot(data=data, x='x', y='y', hue='initial values', sort=False)"
   ]
  },
  {
   "cell_type": "markdown",
   "metadata": {},
   "source": [
    "We can’t tell by looking at these graphs which direction the solution is \"moving\" in time (because so far we’ve only plotted $x$ and\n",
    "$y$). We can figure that out using _direction fields_. Direction fields (like a slope field but with vectors instead of line segments) can also be used to graphically study solutions for DEs that can’t be solved analytically.\n",
    "\n",
    "We can create a direction field in almost exactly the same way as we created a quiver plot in weeks 2 and 3. In this instance, the $x$ component of\n",
    "each vector is the RHS of the $\\mathrm{d}x/\\mathrm{d}t$ equation, and the $y$ component of each vector is the RHS of the\n",
    "$\\mathrm{d}y/\\mathrm{d}t$ equation. We scale all the lines to have he same length.\n",
    "\n",
    "Note that we need the DE function, not the analytic solution, for the direction field."
   ]
  },
  {
   "cell_type": "code",
   "execution_count": null,
   "metadata": {},
   "outputs": [],
   "source": [
    "x, y = meshgrid(linspace(-6, 6, 20), linspace(-6, 6, 20))\n",
    "xy_grid = array([x,y]).transpose((1, 0, 2)) # some numpy magic to vectorise the calculations\n",
    "dx, dy = difeq(xy_grid, None)\n",
    "L = sqrt(dx**2 + dy**2)\n",
    "fig, ax = plt.subplots(figsize=(5, 5))\n",
    "q = ax.quiver(x, y, dx/L, dy/L, scale=25, color='grey')\n",
    "data = pd.DataFrame()\n",
    "for x0 in [[0, 1], [2, 1], [0, 5]]:\n",
    "    x = odeint(difeq, x0, t)\n",
    "    more_points = pd.DataFrame({'x': x[:,0], 'y': x[:,1], 'initial values': str(x0)})\n",
    "    data = pd.concat([data, more_points])\n",
    "ax = sns.lineplot(data=data, x='x', y='y', hue='initial values', sort=False)"
   ]
  },
  {
   "cell_type": "markdown",
   "metadata": {},
   "source": [
    "What happens if you change `scale` to 2 in `create_quiver`?\n",
    "\n",
    "Alternatively, we can add the $t$ axis in and create a three dimensional plot."
   ]
  },
  {
   "cell_type": "code",
   "execution_count": null,
   "metadata": {},
   "outputs": [],
   "source": [
    "t = linspace(0, 2*pi)\n",
    "fig = plt.figure(figsize=(5, 5))\n",
    "ax = fig.gca(projection='3d')\n",
    "for A, B in [[0, 1], [2, 1], [0, 5]]:\n",
    "    x = A*cos(t) + B*sin(t)\n",
    "    y = B*cos(t) - A*sin(t)\n",
    "    ax.plot(x, y, t, label=str([A, B]))"
   ]
  },
  {
   "cell_type": "markdown",
   "metadata": {},
   "source": [
    "Can you recover the 2D plot from above by looking down the `z` axis?"
   ]
  },
  {
   "cell_type": "markdown",
   "metadata": {
    "nbgrader": {
     "grade": false,
     "grade_id": "cell-4232a7bb4aeb18b3",
     "locked": true,
     "schema_version": 1,
     "solution": false
    }
   },
   "source": [
    "# Exercises\n",
    "\n",
    "We will plot the analytic and numerical solutions to some DEs along with their direction fields."
   ]
  },
  {
   "cell_type": "markdown",
   "metadata": {
    "nbgrader": {
     "grade": false,
     "grade_id": "cell-f54cc190fe724418",
     "locked": true,
     "schema_version": 1,
     "solution": false
    }
   },
   "source": [
    "1. Find the general solution to\n",
    "\\begin{align*}\n",
    "x' &= -0.5x + 2y\\\\\n",
    "y' &= -2x -0.5y\n",
    "\\end{align*}\n",
    "You can use the following cell to, for instance, calculate the eigenvalues and eigenvectors, if you would like."
   ]
  },
  {
   "cell_type": "code",
   "execution_count": null,
   "metadata": {
    "nbgrader": {
     "grade": true,
     "grade_id": "cell-c2b085d8dc989c38",
     "locked": false,
     "points": 0,
     "schema_version": 1,
     "solution": true
    }
   },
   "outputs": [],
   "source": []
  },
  {
   "cell_type": "markdown",
   "metadata": {
    "nbgrader": {
     "grade": false,
     "grade_id": "cell-1b5a7074b9cb210e",
     "locked": true,
     "schema_version": 1,
     "solution": false
    }
   },
   "source": [
    "2. Plot the analytic solutions for the following initial value problems for $0\\leq t\\leq 8$.\n",
    "    1. $x(0)=2$, $y(0)=1.5$\n",
    "    2. $x(0)=1$, $y(0)=-3$\n",
    "    3. $x(0)=-2$, $y(0)=-2.5$"
   ]
  },
  {
   "cell_type": "code",
   "execution_count": null,
   "metadata": {
    "nbgrader": {
     "grade": true,
     "grade_id": "cell-fb85351c79c8429c",
     "locked": false,
     "points": 2,
     "schema_version": 1,
     "solution": true
    }
   },
   "outputs": [],
   "source": []
  },
  {
   "cell_type": "markdown",
   "metadata": {
    "nbgrader": {
     "grade": false,
     "grade_id": "cell-c5e91e6dea171bd7",
     "locked": true,
     "schema_version": 1,
     "solution": false
    }
   },
   "source": [
    "3. Define the derivative function that you will use to calculate the direction field and the numerical solution."
   ]
  },
  {
   "cell_type": "code",
   "execution_count": null,
   "metadata": {
    "nbgrader": {
     "grade": false,
     "grade_id": "cell-cac3f5ddcb4d23f2",
     "locked": false,
     "schema_version": 1,
     "solution": true
    }
   },
   "outputs": [],
   "source": [
    "def difeq(x, t):\n",
    "    ### YOUR IMPLEMENTATION GOES HERE"
   ]
  },
  {
   "cell_type": "code",
   "execution_count": null,
   "metadata": {
    "nbgrader": {
     "grade": true,
     "grade_id": "cell-808ec730fc3ab81b",
     "locked": true,
     "points": 1,
     "schema_version": 1,
     "solution": false
    }
   },
   "outputs": [],
   "source": [
    "assert allclose(difeq([2, 1.5], 0), [2, -4.75])\n",
    "assert allclose(difeq([1, -3], 0), [-6.5, -0.5])\n",
    "assert allclose(difeq([-2, -2.5], 0), [-4, 5.25])"
   ]
  },
  {
   "cell_type": "markdown",
   "metadata": {
    "nbgrader": {
     "grade": false,
     "grade_id": "cell-1c7414877b1ac7fb",
     "locked": true,
     "schema_version": 1,
     "solution": false
    }
   },
   "source": [
    "3. Plot the direction field and the analytic solutions from question 2 on the same graph. Plot the ranges $-3\\leq x \\leq 3$ and $-3\\leq y \\leq 2$."
   ]
  },
  {
   "cell_type": "code",
   "execution_count": null,
   "metadata": {
    "nbgrader": {
     "grade": true,
     "grade_id": "cell-4cb3140ef760a441",
     "locked": false,
     "points": 2,
     "schema_version": 1,
     "solution": true
    }
   },
   "outputs": [],
   "source": []
  },
  {
   "cell_type": "markdown",
   "metadata": {
    "nbgrader": {
     "grade": false,
     "grade_id": "cell-b24f5ff26decf137",
     "locked": true,
     "schema_version": 1,
     "solution": false
    }
   },
   "source": [
    "4. Recreate the plot from question 3 using `odeint` rather than the numerical solution."
   ]
  },
  {
   "cell_type": "code",
   "execution_count": null,
   "metadata": {
    "nbgrader": {
     "grade": true,
     "grade_id": "cell-df67ab13fb30b6f9",
     "locked": false,
     "points": 1,
     "schema_version": 1,
     "solution": true
    }
   },
   "outputs": [],
   "source": []
  },
  {
   "cell_type": "markdown",
   "metadata": {
    "nbgrader": {
     "grade": false,
     "grade_id": "cell-ac24876f6823d277",
     "locked": true,
     "schema_version": 1,
     "solution": false
    }
   },
   "source": [
    "5. Use a for loop to plot the solutions for the initial value problems where $y(0)=2$ and 21 equally spaced values of $x(0)$ between -2 and 2. Do not plot the direction field.\n"
   ]
  },
  {
   "cell_type": "code",
   "execution_count": null,
   "metadata": {
    "nbgrader": {
     "grade": true,
     "grade_id": "cell-6871cf9c0d7906ee",
     "locked": false,
     "points": 2,
     "schema_version": 1,
     "solution": true
    }
   },
   "outputs": [],
   "source": []
  },
  {
   "cell_type": "markdown",
   "metadata": {
    "nbgrader": {
     "grade": false,
     "grade_id": "cell-8d09d09dd00f3ef4",
     "locked": true,
     "schema_version": 1,
     "solution": false
    }
   },
   "source": [
    "6. Recreate the plot from question 5 in three dimensions, where the $z$ values correspond to the independent variable. Use lines rather than markers."
   ]
  },
  {
   "cell_type": "code",
   "execution_count": null,
   "metadata": {
    "nbgrader": {
     "grade": true,
     "grade_id": "cell-7d5627fa91452a15",
     "locked": false,
     "points": 1,
     "schema_version": 1,
     "solution": true
    }
   },
   "outputs": [],
   "source": []
  }
 ],
 "metadata": {
  "kernelspec": {
   "display_name": "Python 3",
   "language": "python",
   "name": "python3"
  },
  "language_info": {
   "codemirror_mode": {
    "name": "ipython",
    "version": 3
   },
   "file_extension": ".py",
   "mimetype": "text/x-python",
   "name": "python",
   "nbconvert_exporter": "python",
   "pygments_lexer": "ipython3",
   "version": "3.8.8"
  }
 },
 "nbformat": 4,
 "nbformat_minor": 4
}
