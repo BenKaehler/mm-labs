{
 "cells": [
  {
   "cell_type": "markdown",
   "metadata": {},
   "source": [
    "# Lab 7\n",
    "In Lab 4 we took a peak under the hood of a numerical integrator and used the Euler method to integrate functions of the form\n",
    "\\begin{align*}\n",
    "\\frac{\\mathrm{d}y}{\\mathrm{d}x} = f (x, y).\n",
    "\\end{align*}\n",
    "\n",
    "The Euler method can also be used to solve systems of DEs. As it is an iterative method, at each step the current values of the dependent variables can be used to calculate the next increment.\n",
    "\n",
    "As a method for numerically integrating a differential equation, the Euler method is rarely used in practice because better methods exist. A method is better if it is more accurate with the same number of steps.\n",
    "\n",
    "In this lab we will use an improved Euler method to numerically solve systems of differential equation.\n",
    "\n",
    "In the improved Euler method, the first guess of the new $(x,y)$ point is calculated using the\n",
    "simple Euler method - we call this the intermediate step. Then, using the intermediate\n",
    "$x$ and $y$ values, an updated value of the derivative or tangent slope is calculated. The\n",
    "average of the first tangent slope and the updated tangent slope is then used in the final\n",
    "calculation of the new $(x,y)$ point. See pages 129-131 of the text for more information.\n",
    "\n",
    "## Setup"
   ]
  },
  {
   "cell_type": "code",
   "execution_count": null,
   "metadata": {},
   "outputs": [],
   "source": [
    "from numpy import arange, empty, exp, array, allclose\n",
    "from scipy.integrate import odeint\n",
    "import pandas as pd\n",
    "import seaborn as sns"
   ]
  },
  {
   "cell_type": "markdown",
   "metadata": {},
   "source": [
    "## The vectorised improved Euler method\n",
    "This implementation incorporates two improvements over the `euler` function we saw in Week 4. It implements the improved Euler method described above and allows (requires) $y$ to be a vector, so that it can solve systems of DEs."
   ]
  },
  {
   "cell_type": "code",
   "execution_count": null,
   "metadata": {},
   "outputs": [],
   "source": [
    "def euler_improved(func, y0, t0, tn, Dt):\n",
    "    \"\"\"\n",
    "    Integrate an ordinary differential equation using an improved Euler method (Huen's).\n",
    "    \n",
    "    Solves the initial value problem for systems of first order ode-s::\n",
    "        dy/dt = func(y, t).\n",
    "        \n",
    "    Parameters\n",
    "    ----------\n",
    "    func : callable(y, t)\n",
    "        Computes the derivative of y at t.\n",
    "    y0 : array\n",
    "        Initial condition on y.\n",
    "    t0 : float\n",
    "        Initial condition on t.\n",
    "    tn : float\n",
    "        Upper limit to value of t.\n",
    "    Dt : float\n",
    "        t increment.\n",
    "        \n",
    "    Returns\n",
    "    -------\n",
    "    t : float\n",
    "        Array containing the value of t for each value of t0 + n * Dt,\n",
    "        where n ranges from zero to floor( (tn - t0) / Dt ).\n",
    "    y : array\n",
    "        Array containing the value of y for each value of t.\n",
    "    \"\"\"\n",
    "    t = arange(t0, tn, Dt)  # Create the t array\n",
    "    y = empty(shape=(len(t), len(y0)))  # Create an empty y array of the same length as t\n",
    "    y[0] = y0  # Set the first value of y to y0\n",
    "    for n in range(len(t) - 1):  # Loop to populate the rest of the values of y\n",
    "        y_int = y[n] + func(y[n], t[n]) * Dt  # Euler's method\n",
    "        y[n+1] = y[n] + 0.5*(func(y[n], t[n]) + func(y_int, t[n+1])) * Dt # improved\n",
    "    \n",
    "    return t, y  # Return t and y as a pair"
   ]
  },
  {
   "cell_type": "markdown",
   "metadata": {},
   "source": [
    "## Solving systems\n",
    "Let's find the approximate solution to one of the examples we looked at in class:\n",
    "\\begin{align*}\n",
    "\\frac{\\mathrm{d}x}{\\mathrm{d}t} &= y, \\\\\n",
    "\\frac{\\mathrm{d}x}{\\mathrm{d}t} &= 2x+y,\n",
    "\\end{align*}\n",
    "with initial conditions $x_0 = 2$ and $y_0 = 1$.\n",
    "\n",
    "We solved for $x(t)$ and $y(t)$ by manipulating these equations until we had one\n",
    "2nd-order DE in just the one dependent variable $x$ and then we solved it using the\n",
    "characteristic equation method.\n",
    "\n",
    "In order to feed this equation to our vectorised improved Euler method it is helpful to rephrase it as a matrix equation:\n",
    "\\begin{align*}\n",
    "\\frac{\\mathrm{d}\\mathbf{y}}{\\mathrm{d}t} = \\left(\\begin{array}{2}0&1\\\\2&1\\end{array}\\right)\\mathbf{y}\\quad\\text{where}\\quad\\mathbf{y}=\\left(\\begin{array}{1}x\\\\y\\end{array}\\right).\n",
    "\\end{align*}\n",
    "The initial value is then $\\mathbf{y}_0=(2, 1)$\n",
    "\n",
    "As for the scalar case, we start by defining our DE function:"
   ]
  },
  {
   "cell_type": "code",
   "execution_count": null,
   "metadata": {},
   "outputs": [],
   "source": [
    "def dydt(y, t):\n",
    "    M = array([[0, 1],\n",
    "               [2, 1]])\n",
    "    return M @ y  # @ means matrix multiplication"
   ]
  },
  {
   "cell_type": "markdown",
   "metadata": {},
   "source": [
    "Plot the approximation along side the analytic solution. Try changing the step\n",
    "increment to be larger or smaller.\n",
    "\n",
    "Note the magic that splits the line labels into two to improve the look of the finished plot. Print out the resulting DataFrame to see what happened."
   ]
  },
  {
   "cell_type": "code",
   "execution_count": null,
   "metadata": {},
   "outputs": [],
   "source": [
    "Dx = 0.2\n",
    "t, y = euler_improved(dydt, [2, 1], 0, 10.00001, Dx)\n",
    "M_anal = array([[1, 1],\n",
    "                [-1, 2]])\n",
    "y_anal = (M_anal @ [exp(-t), exp(2*t)]).T\n",
    "\n",
    "data = pd.DataFrame({\n",
    "    't': t,\n",
    "    'x anal': y_anal[:,0],\n",
    "    'y anal': y_anal[:,1],\n",
    "    'x approx': y[:,0],\n",
    "    'y approx': y[:,1],\n",
    "})\n",
    "data = data.melt(id_vars=['t'])\n",
    "data[['variable', 'calculation']] = data['variable'].str.split(expand=True)\n",
    "ax = sns.lineplot(data=data, x='t', y='value', hue='variable', style='calculation')"
   ]
  },
  {
   "cell_type": "markdown",
   "metadata": {},
   "source": [
    "Now use the program to solve the following set of coupled differential equations.\n",
    "\\begin{align*}\n",
    "\\frac{\\mathrm{d}x}{\\mathrm{d}t} &= -y, \\\\\n",
    "\\frac{\\mathrm{d}x}{\\mathrm{d}t} &= 10.1x-0.2y,\n",
    "\\end{align*}\n",
    "with initial conditions $x_0 = 0$ and $y_0 = 1$.\n",
    "\n",
    "Call your DE function `dydt` in the following cell:"
   ]
  },
  {
   "cell_type": "code",
   "execution_count": null,
   "metadata": {},
   "outputs": [],
   "source": [
    "def dydt(y, t):\n",
    "    ### YOUR IMPLEMENTATION HERE"
   ]
  },
  {
   "cell_type": "markdown",
   "metadata": {},
   "source": [
    "If you have defined `dydt` properly, the following cell should plot it."
   ]
  },
  {
   "cell_type": "code",
   "execution_count": null,
   "metadata": {},
   "outputs": [],
   "source": [
    "Dx = 0.01\n",
    "t, y = euler_improved(dydt, [0, 1], 0, 2.00001, Dx)\n",
    "data = pd.DataFrame({'t': t, 'x(t)': y[:,0], 'y(t)': y[:,1]})\n",
    "data = data.melt(id_vars=['t'])\n",
    "ax = sns.lineplot(data=data, x='t', y='value', hue='variable')"
   ]
  },
  {
   "cell_type": "markdown",
   "metadata": {},
   "source": [
    "What happens if you set `Dx = 0.3`? Why?"
   ]
  },
  {
   "cell_type": "markdown",
   "metadata": {},
   "source": []
  },
  {
   "cell_type": "markdown",
   "metadata": {
    "nbgrader": {
     "grade": false,
     "grade_id": "cell-e6d1f6389902875c",
     "locked": true,
     "schema_version": 1,
     "solution": false
    }
   },
   "source": [
    "## Exercises\n",
    "\n",
    "1. Consider two brine tanks connected to each other. Tank 1 contains\n",
    "$x(t)$ kg of salt in 400 litres of water and Tank 2 contains $y(t)$ kg of salt in 800 litres\n",
    "of water. Brine is pumped from Tank 1 to 2 at a rate of 30 litres/min and from\n",
    "Tank 2 to 1 at a rate of 10 litres/min. Fresh water flows into Tank 1 at a rate\n",
    "of 20 litres/min and brine flows out of Tank 2 at a rate of 20 litres/min. (total\n",
    "volume doesn’t change). Initially, there are 50 kg of salt in each tank. Define a function with the following signature to calculate the rate of change of salt levels in both tanks with respect to time."
   ]
  },
  {
   "cell_type": "code",
   "execution_count": null,
   "metadata": {
    "nbgrader": {
     "grade": false,
     "grade_id": "cell-68cea6bf1b96f9da",
     "locked": false,
     "schema_version": 1,
     "solution": true
    }
   },
   "outputs": [],
   "source": [
    "def dydt(y, t):\n",
    "    \"\"\"\n",
    "    Calculate dy/dt as a function of y and t.\n",
    "    \n",
    "    Parameters\n",
    "    ----------\n",
    "    y : array\n",
    "        the amount of salt in each tank, that is (x(t), y(t))\n",
    "    t : float\n",
    "        the time at which to calculate the derivative\n",
    "    \"\"\"\n",
    "    ### YOUR IMPLEMENTATION HERE"
   ]
  },
  {
   "cell_type": "markdown",
   "metadata": {},
   "source": [
    "If you have implemented `dydt` properly, this cell should display \"nice job!\""
   ]
  },
  {
   "cell_type": "code",
   "execution_count": null,
   "metadata": {
    "nbgrader": {
     "grade": true,
     "grade_id": "cell-d58444faeb5309b7",
     "locked": true,
     "points": 1,
     "schema_version": 1,
     "solution": false
    }
   },
   "outputs": [],
   "source": [
    "assert allclose(dydt([50, 50], 0), [-3.125,  1.875])\n",
    "assert allclose(dydt([20, 60], 10), [-0.75, -0.75])\n",
    "assert allclose(dydt([0, 0], 0), [0, 0])\n",
    "assert allclose(dydt([0.5,1], 5), [-0.025, 0])\n",
    "print('nice job!')"
   ]
  },
  {
   "cell_type": "markdown",
   "metadata": {
    "nbgrader": {
     "grade": false,
     "grade_id": "cell-cdd7e6d0eaaa4006",
     "locked": true,
     "schema_version": 1,
     "solution": false
    }
   },
   "source": [
    "2. Use `euler_improved` to plot the amount of salt in the tanks for the first 180 minutes on the same graph."
   ]
  },
  {
   "cell_type": "code",
   "execution_count": null,
   "metadata": {
    "nbgrader": {
     "grade": true,
     "grade_id": "cell-ed526af12407c0da",
     "locked": false,
     "points": 1,
     "schema_version": 1,
     "solution": true
    }
   },
   "outputs": [],
   "source": []
  },
  {
   "cell_type": "markdown",
   "metadata": {
    "nbgrader": {
     "grade": false,
     "grade_id": "cell-2c340d13b29721fe",
     "locked": true,
     "schema_version": 1,
     "solution": false
    }
   },
   "source": [
    "3. To the nearest minute, when does $y(t)$ peak? (Hint: you could recreate the plot over a small range.) (Alternative Hint (advanced): look up the two dataframe methods `iloc` and `argmax`]"
   ]
  },
  {
   "cell_type": "code",
   "execution_count": null,
   "metadata": {
    "nbgrader": {
     "grade": true,
     "grade_id": "cell-f5897ca8310bca77",
     "locked": false,
     "points": 1,
     "schema_version": 1,
     "solution": true
    }
   },
   "outputs": [],
   "source": []
  }
 ],
 "metadata": {
  "kernelspec": {
   "display_name": "Python 3",
   "language": "python",
   "name": "python3"
  },
  "language_info": {
   "codemirror_mode": {
    "name": "ipython",
    "version": 3
   },
   "file_extension": ".py",
   "mimetype": "text/x-python",
   "name": "python",
   "nbconvert_exporter": "python",
   "pygments_lexer": "ipython3",
   "version": "3.8.8"
  }
 },
 "nbformat": 4,
 "nbformat_minor": 4
}
