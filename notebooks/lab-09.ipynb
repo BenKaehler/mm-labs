{
 "cells": [
  {
   "cell_type": "markdown",
   "metadata": {},
   "source": [
    "# Lab 9\n",
    "Systems of linear differential equations can be solved using matrix calculations. We have covered numerical matrix calculations in this course already, but today we will recap and cover some advanced operations.\n",
    "\n",
    "In the exercises you will employ some of these skills to use the computer to find analytic solutions to coupled differential equations.\n",
    "\n",
    "## Setup\n",
    "We adopt a common custom and import `numpy` as `np`. This is because we will be using a lot of NumPy functions today so this keeps our imports neat."
   ]
  },
  {
   "cell_type": "code",
   "execution_count": null,
   "metadata": {},
   "outputs": [],
   "source": [
    "import numpy as np\n",
    "from numpy import isclose, allclose, array, exp, linspace, outer\n",
    "from numpy.linalg import det, inv, eig, solve, eigvals\n",
    "from scipy.integrate import odeint\n",
    "import pandas as pd\n",
    "import seaborn as sns"
   ]
  },
  {
   "cell_type": "markdown",
   "metadata": {},
   "source": [
    "## Entering matrices\n",
    "Seeing this one more time doesn't hurt. We can enter the matrix\n",
    "\\begin{align*}\n",
    "A = \\left(\\begin{array}{3} 1&2&0 \\\\ 2&1&0 \\\\ 0&1&2\\end{array}\\right)\n",
    "\\end{align*}\n",
    "in the following fashion."
   ]
  },
  {
   "cell_type": "code",
   "execution_count": null,
   "metadata": {},
   "outputs": [],
   "source": [
    "A = np.array([[1, 2, 0],\n",
    "           [2, 1, 0],\n",
    "           [0, 1, 2]])\n",
    "print(A)"
   ]
  },
  {
   "cell_type": "markdown",
   "metadata": {},
   "source": [
    "Which element do we select with `A[0, 2]`?"
   ]
  },
  {
   "cell_type": "code",
   "execution_count": null,
   "metadata": {},
   "outputs": [],
   "source": [
    "A[0, 2]"
   ]
  },
  {
   "cell_type": "markdown",
   "metadata": {},
   "source": [
    "Which column is selected by `A[:, 2]`?"
   ]
  },
  {
   "cell_type": "code",
   "execution_count": null,
   "metadata": {},
   "outputs": [],
   "source": [
    "A[:, 2]"
   ]
  },
  {
   "cell_type": "markdown",
   "metadata": {},
   "source": [
    "Notice that NumPy doesn't distinguish between column and row vectors (unless you really force it). It usually figures out what you need from the context.\n",
    "\n",
    "Which row is selected by `A[0, :]`?"
   ]
  },
  {
   "cell_type": "code",
   "execution_count": null,
   "metadata": {},
   "outputs": [],
   "source": [
    "A[0, :]"
   ]
  },
  {
   "cell_type": "markdown",
   "metadata": {},
   "source": [
    "Recall that addition is elementwise. To add the first two columns of `A` and label them `x` write"
   ]
  },
  {
   "cell_type": "code",
   "execution_count": null,
   "metadata": {},
   "outputs": [],
   "source": [
    "x = A[:, 0] + A[:, 1]\n",
    "print(x)"
   ]
  },
  {
   "cell_type": "markdown",
   "metadata": {},
   "source": [
    "## Special matrices and operations"
   ]
  },
  {
   "cell_type": "markdown",
   "metadata": {},
   "source": [
    "`eye` returns an identity matrix."
   ]
  },
  {
   "cell_type": "code",
   "execution_count": null,
   "metadata": {},
   "outputs": [],
   "source": [
    "np.eye(3)"
   ]
  },
  {
   "cell_type": "markdown",
   "metadata": {},
   "source": [
    "`zeros` returns a zero array. Note that it needs both dimensions as it makes no assumptions about the shape you want."
   ]
  },
  {
   "cell_type": "code",
   "execution_count": null,
   "metadata": {},
   "outputs": [],
   "source": [
    "np.zeros((4, 4))"
   ]
  },
  {
   "cell_type": "markdown",
   "metadata": {},
   "source": [
    "`diag` takes a vector and returns a matrix with that vector as its diagonal."
   ]
  },
  {
   "cell_type": "code",
   "execution_count": null,
   "metadata": {},
   "outputs": [],
   "source": [
    "np.diag([1, 2, 3])"
   ]
  },
  {
   "cell_type": "markdown",
   "metadata": {},
   "source": [
    "We can transpose a matrix with its member property `T`."
   ]
  },
  {
   "cell_type": "code",
   "execution_count": null,
   "metadata": {},
   "outputs": [],
   "source": [
    "A.T"
   ]
  },
  {
   "cell_type": "markdown",
   "metadata": {},
   "source": [
    "We can take the determinant using `det`."
   ]
  },
  {
   "cell_type": "code",
   "execution_count": null,
   "metadata": {},
   "outputs": [],
   "source": [
    "det(A)"
   ]
  },
  {
   "cell_type": "markdown",
   "metadata": {},
   "source": [
    "`inv` returns the inverse matrix."
   ]
  },
  {
   "cell_type": "code",
   "execution_count": null,
   "metadata": {},
   "outputs": [],
   "source": [
    "inv(A)"
   ]
  },
  {
   "cell_type": "markdown",
   "metadata": {},
   "source": [
    "Recall that the `@` operator performs matrix multiplication."
   ]
  },
  {
   "cell_type": "code",
   "execution_count": null,
   "metadata": {},
   "outputs": [],
   "source": [
    "inv(A) @ A"
   ]
  },
  {
   "cell_type": "markdown",
   "metadata": {},
   "source": [
    "Note that `inv` and `det` come from the `numpy.linalg` module.\n",
    "## Solving a system of linear equations\n",
    "`solve`, also from `numpy.linalg`, solves matrix equations of the form\n",
    "\\begin{align*}\n",
    "Ax=b\n",
    "\\end{align*}\n",
    "for $x$, given $A$ and $b$. For example, take `A` as above and imagine\n",
    "\\begin{align*}\n",
    "b=\\left(\\begin{array}{c}1\\\\2\\\\3\\end{array}\\right).\n",
    "\\end{align*}\n"
   ]
  },
  {
   "cell_type": "code",
   "execution_count": null,
   "metadata": {},
   "outputs": [],
   "source": [
    "b = np.array([1, 2, 3])\n",
    "solve(A, b)"
   ]
  },
  {
   "cell_type": "markdown",
   "metadata": {},
   "source": [
    "`inv(A) @ b` gives the same result, of course."
   ]
  },
  {
   "cell_type": "code",
   "execution_count": null,
   "metadata": {},
   "outputs": [],
   "source": [
    "inv(A) @ b"
   ]
  },
  {
   "cell_type": "markdown",
   "metadata": {},
   "source": [
    "## Finding eigenvalues and eigenvectors\n",
    "You have seen before that you can obtain the eigenvalues of a matrix using `eigvals`."
   ]
  },
  {
   "cell_type": "code",
   "execution_count": null,
   "metadata": {},
   "outputs": [],
   "source": [
    "eigvals(A)"
   ]
  },
  {
   "cell_type": "markdown",
   "metadata": {},
   "source": [
    "It is rare that you want the eigenvalues in isolation, however. `eig` gives you the eigenvalues and the eigenvectors."
   ]
  },
  {
   "cell_type": "code",
   "execution_count": null,
   "metadata": {},
   "outputs": [],
   "source": [
    "v, W = eig(A)\n",
    "print(v)\n",
    "print(W)"
   ]
  },
  {
   "cell_type": "markdown",
   "metadata": {},
   "source": [
    "The eigenvectors are now in the columns of `W`. For instance, we can verify the eigenvalue equation for the second eigenvalue and eigenvector."
   ]
  },
  {
   "cell_type": "code",
   "execution_count": null,
   "metadata": {},
   "outputs": [],
   "source": [
    "print('A w_1:', A.dot(W[:, 1]))\n",
    "print('v_1 w_1:', v[1]*W[:, 1])"
   ]
  },
  {
   "cell_type": "markdown",
   "metadata": {},
   "source": [
    "## Linear independence of a set of vectors\n",
    "To test for linear independence of a set of vectors $v_1, v_2, v_3, \\ldots, v_4$, set\n",
    "\\begin{align*}\n",
    "c_1v_1+c_2v_2+c_3v_3+\\ldots+c_nv_n = 0,\n",
    "\\end{align*}\n",
    "then show that the only solution to these equations is where $c_1=c_2=c_3=\\ldots=c_n=0$.\n",
    "\n",
    "If the $U=\\left(\\begin{array}{ccccc}v_1&v_2&v_3&\\ldots&v_n\\end{array}\\right)$ is a matrix and $c$ is the (column) vector of the coefficients $c_i$, we can write the equations in the matrix form $Uc=0$.\n",
    "\n",
    "If the determinant of $U$ is non-zero, $U$ has an inverse (is non-singular) and the solution to the equations is $c=U^{-1}0=0$. Therefore, the $c_i$s are all 0 and the vectors are linearly independent.\n",
    "\n",
    "For example, we can show that our eigenvectors from the last section are linearly independent."
   ]
  },
  {
   "cell_type": "code",
   "execution_count": null,
   "metadata": {},
   "outputs": [],
   "source": [
    "det(W)"
   ]
  },
  {
   "cell_type": "markdown",
   "metadata": {},
   "source": [
    "In practice, this approach is fraught with danger, because `det(W)` is a floating point result so can be almost zero when it would be exactly zero if we performed the calculations exactly. However, if you find that the determinant is nearly zero, then you can assume that bad things will happen when you try to invert the matrix.\n",
    "\n",
    "## Linear combinations of vectors\n",
    "To write a vector $r$ as a linear combination of the vectors $v_1, v_2, v_3, \\ldots, v_4$, set\n",
    "\\begin{align*}\n",
    "r = a_1v_1 + a_2v_2 + a_3v_3 + \\ldots + a_nv_n,\n",
    "\\end{align*}\n",
    "and solve these euqations to find the coefficients $a_1$, $a_2$, $a_3$, $\\ldots$, $a_n$.\n",
    "\n",
    "In matrix form\n",
    "\\begin{align*}\n",
    "Ua=r,\n",
    "\\end{align*}\n",
    "where $a$ is the (column) vector of the coefficients $a_i$. Now we can use the command `solve(U, r)` to find the vector $a$ and hence the $a_i$s."
   ]
  },
  {
   "cell_type": "markdown",
   "metadata": {
    "nbgrader": {
     "grade": false,
     "grade_id": "cell-d4721e5c25046ead",
     "locked": true,
     "schema_version": 1,
     "solution": false
    }
   },
   "source": [
    "# Exercises\n",
    "\n",
    "We will use the computer to solve coupled differential equations analytically and numerically."
   ]
  },
  {
   "cell_type": "markdown",
   "metadata": {
    "nbgrader": {
     "grade": false,
     "grade_id": "cell-aaf49edf48d28a58",
     "locked": true,
     "schema_version": 1,
     "solution": false
    }
   },
   "source": [
    "Recall that the system of differential equations \n",
    "\\begin{align*}\n",
    "\\frac{\\mathrm{d}\\mathbf{y}}{\\mathrm{d}t} = \\mathbf{A}\\mathbf{y}(t)\n",
    "\\end{align*}\n",
    "where $\\mathrm{A}$ is a $2\\times 2$ matrix with distinct eigenvalues, has the solution\n",
    "\\begin{align*}\n",
    "\\mathbf{y}(t) = a\\mathrm{e}^{\\lambda_1}\\mathbf{v}_1 + b\\mathrm{e}^{\\lambda_2}\\mathbf{v}_2,\n",
    "\\end{align*}\n",
    "where $\\lambda_1$ and $\\lambda_2$ are the eigenvalues of $\\mathbf{A}$ and $\\mathbf{v}_1$ and $\\mathbf{v}_2$ are the corresponding eigenvectors.\n",
    "\n",
    "Take\n",
    "\\begin{align*}\n",
    "\\mathbf{A} = \\left(\\begin{array}{cc}-1.5&0.5 \\\\ 1&-1\\end{array}\\right).\n",
    "\\end{align*}\n",
    "In the cell below, use `numpy.linalg.eig` to find the eigenvalues and eigenvectors of $\\mathbf{A}$."
   ]
  },
  {
   "cell_type": "code",
   "execution_count": null,
   "metadata": {
    "nbgrader": {
     "grade": true,
     "grade_id": "cell-c8203086265517f7",
     "locked": false,
     "points": 1,
     "schema_version": 1,
     "solution": true
    }
   },
   "outputs": [],
   "source": []
  },
  {
   "cell_type": "markdown",
   "metadata": {
    "nbgrader": {
     "grade": false,
     "grade_id": "cell-642a8901bc06cd88",
     "locked": true,
     "schema_version": 1,
     "solution": false
    }
   },
   "source": [
    "If $\\mathbf{y}(0)=\\left(\\begin{array}{c}5\\\\4\\end{array}\\right)$, use `numpy.linalg.solve` to calculate $a$ and $b$."
   ]
  },
  {
   "cell_type": "code",
   "execution_count": null,
   "metadata": {
    "nbgrader": {
     "grade": true,
     "grade_id": "cell-40bb20b105652d9a",
     "locked": false,
     "points": 1,
     "schema_version": 1,
     "solution": true
    }
   },
   "outputs": [],
   "source": []
  },
  {
   "cell_type": "markdown",
   "metadata": {
    "nbgrader": {
     "grade": false,
     "grade_id": "cell-75286ea4ac63395b",
     "locked": true,
     "schema_version": 1,
     "solution": false
    }
   },
   "source": [
    "In the cell below, write a function that takes a NumPy array of $t$ values as an input and outputs the corresponding array of $\\mathbf{y}$ values.\n",
    "\n",
    "_Hint:_ you could iterate through the $t$ values to calculate each value of $\\mathbf{y}$ using a for loop, or you could use expressions like `a*outer(exp(v[0]*t), W[:,0])` to calculate what is known as the [outer product](https://docs.scipy.org/doc/numpy/reference/generated/numpy.outer.html)."
   ]
  },
  {
   "cell_type": "code",
   "execution_count": null,
   "metadata": {
    "nbgrader": {
     "grade": false,
     "grade_id": "cell-75073d4d28ba65c1",
     "locked": false,
     "schema_version": 1,
     "solution": true
    }
   },
   "outputs": [],
   "source": [
    "def y(t):\n",
    "    ### YOUR IMPLEMENTATION GOES HERE"
   ]
  },
  {
   "cell_type": "code",
   "execution_count": null,
   "metadata": {
    "nbgrader": {
     "grade": true,
     "grade_id": "cell-beb811ce1aa73b0e",
     "locked": true,
     "points": 1,
     "schema_version": 1,
     "solution": false
    }
   },
   "outputs": [],
   "source": [
    "assert allclose(y(array([0, 2.5, 5])), [[5.        , 4.        ],\n",
    "                                        [0.87299028, 1.70555289],\n",
    "                                        [0.2463458 , 0.49241919]])\n",
    "assert allclose(y(array([10])), [0.02021385, 0.04042768])\n",
    "assert allclose(y(array([20])), [0.0001362, 0.0002724])"
   ]
  },
  {
   "cell_type": "markdown",
   "metadata": {
    "nbgrader": {
     "grade": false,
     "grade_id": "cell-0a65cc7703e9b5ec",
     "locked": true,
     "schema_version": 1,
     "solution": false
    }
   },
   "source": [
    "Below we will calculate the solution numerically using `odeint`, so in the this cell implement a function to calculate $\\mathrm{d}\\mathbf{y}/\\mathrm{d}t$ given $\\mathbf{y}$ and $t$."
   ]
  },
  {
   "cell_type": "code",
   "execution_count": null,
   "metadata": {
    "nbgrader": {
     "grade": false,
     "grade_id": "cell-4cfbde3758e27da5",
     "locked": false,
     "schema_version": 1,
     "solution": true
    }
   },
   "outputs": [],
   "source": [
    "def difeq(y, t):\n",
    "    ### YOUR IMPLEMENTATION GOES HERE"
   ]
  },
  {
   "cell_type": "code",
   "execution_count": null,
   "metadata": {
    "nbgrader": {
     "grade": true,
     "grade_id": "cell-50efc729305ba8c7",
     "locked": true,
     "points": 1,
     "schema_version": 1,
     "solution": false
    }
   },
   "outputs": [],
   "source": [
    "assert allclose(difeq([5, 4], 0), [-5.5,  1. ])\n",
    "assert allclose(difeq([0.87299028, 1.70555289], 2.5), [-0.45670898, -0.83256261])\n",
    "assert allclose(difeq([0.2463458 , 0.49241919], 5), [-0.1233091 , -0.24607339])"
   ]
  },
  {
   "cell_type": "markdown",
   "metadata": {
    "nbgrader": {
     "grade": false,
     "grade_id": "cell-53c137e19c31b726",
     "locked": true,
     "schema_version": 1,
     "solution": false
    }
   },
   "source": [
    "Finally, calculate the numerical solution using `odeint` and plot it with the analytic solution on same graph over the interval $0\\leq t\\leq5$."
   ]
  },
  {
   "cell_type": "code",
   "execution_count": null,
   "metadata": {
    "nbgrader": {
     "grade": true,
     "grade_id": "cell-275d54fac40d5aa1",
     "locked": false,
     "points": 2,
     "schema_version": 1,
     "solution": true
    }
   },
   "outputs": [],
   "source": []
  }
 ],
 "metadata": {
  "kernelspec": {
   "display_name": "Python 3",
   "language": "python",
   "name": "python3"
  },
  "language_info": {
   "codemirror_mode": {
    "name": "ipython",
    "version": 3
   },
   "file_extension": ".py",
   "mimetype": "text/x-python",
   "name": "python",
   "nbconvert_exporter": "python",
   "pygments_lexer": "ipython3",
   "version": "3.8.8"
  }
 },
 "nbformat": 4,
 "nbformat_minor": 4
}
